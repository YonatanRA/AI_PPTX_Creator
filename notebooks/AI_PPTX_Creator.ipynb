{
 "cells": [
  {
   "cell_type": "code",
   "execution_count": null,
   "id": "d69a0661",
   "metadata": {},
   "outputs": [],
   "source": []
  },
  {
   "cell_type": "code",
   "execution_count": 1,
   "id": "5721ebf0",
   "metadata": {},
   "outputs": [],
   "source": [
    "# import API KEY\n",
    "\n",
    "import os                           # operating system library\n",
    "from dotenv import load_dotenv      # load environment variables  \n",
    "\n",
    "\n",
    "load_dotenv()\n",
    "\n",
    "\n",
    "OPENAI_API_KEY = os.getenv(\"OPENAI_API_KEY\")"
   ]
  },
  {
   "cell_type": "code",
   "execution_count": null,
   "id": "e19a7502",
   "metadata": {},
   "outputs": [],
   "source": []
  },
  {
   "cell_type": "code",
   "execution_count": 2,
   "id": "9348dc86",
   "metadata": {},
   "outputs": [
    {
     "data": {
      "text/plain": [
       "\"The Suez Canal is a man-made waterway in Egypt, connecting the Mediterranean Sea to the Red Sea. This canal is one of the world's most significant shipping routes, allowing ships to travel between Europe and South Asia without navigating around Africa, thereby significantly reducing travel time and distance.\\n\\nCompleted in 1869 under the direction of the French engineer Ferdinand de Lesseps, the canal stretches approximately 193 kilometers (120 miles). It has no locks because the sea level is the same at both ends, and it can accommodate ships of various sizes, including some of the largest vessels, such as oil tankers.\\n\\nThe Suez Canal is strategically and economically crucial, as it is a major conduit for the transport of oil, as well as other goods. It has also been a focal point in geopolitical conflicts. For instance, it was nationalized by Egypt's President Gamal Abdel Nasser in 1956, leading to the Suez Crisis involving Egypt, Israel, France, and the United Kingdom. The canal has been expanded and modernized several times to accommodate increasing maritime traffic and larger ships.\""
      ]
     },
     "execution_count": 2,
     "metadata": {},
     "output_type": "execute_result"
    }
   ],
   "source": [
    "from langchain_openai.chat_models import ChatOpenAI   # LangChain connection to OpenAI\n",
    "\n",
    "model = ChatOpenAI(openai_api_key=OPENAI_API_KEY, model=\"gpt-4-turbo\")\n",
    "\n",
    "response = model.invoke(\"What is the Suez Canal?\")\n",
    "\n",
    "response.content"
   ]
  },
  {
   "cell_type": "code",
   "execution_count": null,
   "id": "c02e6dfe",
   "metadata": {},
   "outputs": [],
   "source": []
  },
  {
   "cell_type": "code",
   "execution_count": 3,
   "id": "e0846503",
   "metadata": {},
   "outputs": [
    {
     "data": {
      "text/plain": [
       "['2024_BRIEFING.pdf']"
      ]
     },
     "execution_count": 3,
     "metadata": {},
     "output_type": "execute_result"
    }
   ],
   "source": [
    "os.listdir(\"../pdfs\")"
   ]
  },
  {
   "cell_type": "code",
   "execution_count": 4,
   "id": "94fa28eb",
   "metadata": {},
   "outputs": [],
   "source": [
    "from langchain_community.document_loaders import PyPDFDirectoryLoader"
   ]
  },
  {
   "cell_type": "code",
   "execution_count": 5,
   "id": "a0130450",
   "metadata": {},
   "outputs": [],
   "source": [
    "loader = PyPDFDirectoryLoader(\"../pdfs/\")\n",
    "\n",
    "pages = loader.load()"
   ]
  },
  {
   "cell_type": "code",
   "execution_count": 6,
   "id": "13c166fb",
   "metadata": {},
   "outputs": [
    {
     "data": {
      "text/plain": [
       "8"
      ]
     },
     "execution_count": 6,
     "metadata": {},
     "output_type": "execute_result"
    }
   ],
   "source": [
    "len(pages)"
   ]
  },
  {
   "cell_type": "code",
   "execution_count": null,
   "id": "247e5751",
   "metadata": {},
   "outputs": [],
   "source": []
  },
  {
   "cell_type": "code",
   "execution_count": 7,
   "id": "aa69b9d3",
   "metadata": {},
   "outputs": [],
   "source": [
    "from langchain_openai.embeddings import OpenAIEmbeddings\n",
    "\n",
    "\n",
    "vectorizer = OpenAIEmbeddings()"
   ]
  },
  {
   "cell_type": "code",
   "execution_count": 8,
   "id": "520a378d",
   "metadata": {},
   "outputs": [],
   "source": [
    "from langchain_community.vectorstores import Chroma\n",
    "\n",
    "chroma_db = Chroma.from_documents(pages, vectorizer, persist_directory=\"../chroma_db\")"
   ]
  },
  {
   "cell_type": "code",
   "execution_count": 9,
   "id": "53d8b666",
   "metadata": {},
   "outputs": [],
   "source": [
    "retriever = chroma_db.as_retriever(search_type=\"mmr\", search_kwargs={\"k\": 2, \"lambda_mult\": 0.25})"
   ]
  },
  {
   "cell_type": "code",
   "execution_count": null,
   "id": "6b4f7027",
   "metadata": {},
   "outputs": [],
   "source": []
  },
  {
   "cell_type": "code",
   "execution_count": 10,
   "id": "5244dae3",
   "metadata": {},
   "outputs": [],
   "source": [
    "from langchain.prompts import ChatPromptTemplate"
   ]
  },
  {
   "cell_type": "code",
   "execution_count": 11,
   "id": "5ba64ca0",
   "metadata": {},
   "outputs": [],
   "source": [
    "template = \"\"\"\n",
    "            Given the context below and the question, \n",
    "            please generate a header, and 5 bullet points, Summarize each bullet point in 40 words.\n",
    "            Also fetch sub_titles and numbers to describe the information.\n",
    "\n",
    "            Context: {context}\n",
    "\n",
    "            Question: {question}\n",
    "            \"\"\"\n",
    "\n",
    "\n",
    "prompt = ChatPromptTemplate.from_template(template)"
   ]
  },
  {
   "cell_type": "code",
   "execution_count": null,
   "id": "6e416295",
   "metadata": {},
   "outputs": [],
   "source": []
  },
  {
   "cell_type": "code",
   "execution_count": 12,
   "id": "dbb28654",
   "metadata": {},
   "outputs": [],
   "source": [
    "from langchain_core.output_parsers import StrOutputParser\n",
    "\n",
    "parser = StrOutputParser()"
   ]
  },
  {
   "cell_type": "code",
   "execution_count": 13,
   "id": "b092c0ca",
   "metadata": {},
   "outputs": [],
   "source": [
    "from langchain_core.runnables import RunnablePassthrough"
   ]
  },
  {
   "cell_type": "code",
   "execution_count": 14,
   "id": "e11d4092",
   "metadata": {},
   "outputs": [],
   "source": [
    "query = \"What are the endnotes of the briefing?\""
   ]
  },
  {
   "cell_type": "code",
   "execution_count": 15,
   "id": "f993975d",
   "metadata": {},
   "outputs": [],
   "source": [
    "in_chain = {\"context\": retriever, \"question\": RunnablePassthrough()} | prompt | model | parser\n",
    "\n",
    "\n",
    "response = in_chain.invoke(query)"
   ]
  },
  {
   "cell_type": "code",
   "execution_count": 16,
   "id": "353bbc2b",
   "metadata": {},
   "outputs": [
    {
     "data": {
      "text/plain": [
       "['## Impact of Recent Threats in the Red Sea on Regional and EU Economies',\n",
       " '',\n",
       " '### 1. Disruption of Global Supply Chains',\n",
       " '- The attacks by the Houthi militia near the Bab el-Mandeb Strait led to the suspension of Suez transit by major shipping companies, causing global supply chain disruptions. This situation forced some companies to halt production due to delays in shipping and increased freight costs.',\n",
       " '',\n",
       " '### 2. Economic Consequences of Shipping Diversion',\n",
       " '- Shipping diversions to the Cape of Good Hope route have extended travel times by 10 to 14 days, escalating shipping costs further. This increase is compounded by already rising fuel and insurance expenses, affecting overall trade costs.',\n",
       " '',\n",
       " '### 3. Impact on Energy Supplies and Inflation',\n",
       " \"- Persisting or worsening disruptions could severely impact energy supplies and prices, potentially driving higher inflation rates. This scenario threatens to undermine central bank efforts aimed at stabilizing the economic environment through a 'soft landing'.\",\n",
       " '',\n",
       " '### 4. Risk to International Debt Repayment',\n",
       " '- With high interest rates possibly being maintained by US and EU central banks, developing nations face heightened risks in repaying international debts. This is particularly critical for African nations with looming debt maturity deadlines, escalating the financial strain.',\n",
       " '',\n",
       " '### 5. Threats to Submarine Communication Cables',\n",
       " '- Suspected involvement of the Houthis in damaging submarine communication cables poses significant risks to critical EU infrastructure, affecting not only security but also economic stability. This has led to urgent EU measures to enhance the resilience of these vital assets.',\n",
       " '',\n",
       " 'These points encapsulate the multifaceted economic and security challenges posed by the recent threats in the Red Sea, highlighting the extensive implications for regional and global economies.']"
      ]
     },
     "execution_count": 16,
     "metadata": {},
     "output_type": "execute_result"
    }
   ],
   "source": [
    "response.split('\\n')"
   ]
  },
  {
   "cell_type": "code",
   "execution_count": null,
   "id": "51540ca6",
   "metadata": {},
   "outputs": [],
   "source": []
  },
  {
   "cell_type": "code",
   "execution_count": 17,
   "id": "a33f6e0c",
   "metadata": {},
   "outputs": [],
   "source": [
    "from langchain_openai import OpenAI\n",
    "\n",
    "input_model = OpenAI(temperature=0, max_tokens=1024)"
   ]
  },
  {
   "cell_type": "code",
   "execution_count": 18,
   "id": "3110d1b6",
   "metadata": {},
   "outputs": [],
   "source": [
    "template = \"\"\"\n",
    "            We have provided  information below.\n",
    "            Given this information, please generate python-pptx code for a single \n",
    "            slide with this information set header and subtitle as title and  \n",
    "            bullet points.\n",
    "            \n",
    "            Put the title on top of the slide and center all text to slide size.\n",
    "            \n",
    "            Separate the bullet points into separate texts with line separator.\n",
    "            Set font size to minimum for fixing text to cells. Save the file in ../pptx folder\n",
    "\n",
    "            Information: {context}\n",
    "            \"\"\"\n",
    "\n",
    "\n",
    "prompt = ChatPromptTemplate.from_template(template)"
   ]
  },
  {
   "cell_type": "code",
   "execution_count": 19,
   "id": "b0125637",
   "metadata": {},
   "outputs": [],
   "source": [
    "out_chain = prompt | input_model | parser"
   ]
  },
  {
   "cell_type": "code",
   "execution_count": 20,
   "id": "f4f80dbf",
   "metadata": {},
   "outputs": [],
   "source": [
    "output = out_chain.invoke({\"context\": response})"
   ]
  },
  {
   "cell_type": "code",
   "execution_count": 21,
   "id": "34807256",
   "metadata": {},
   "outputs": [
    {
     "data": {
      "text/plain": [
       "['',\n",
       " '# Import necessary libraries',\n",
       " 'from pptx import Presentation',\n",
       " 'from pptx.util import Inches',\n",
       " '',\n",
       " '# Create new presentation',\n",
       " 'prs = Presentation()',\n",
       " '',\n",
       " '# Add new slide',\n",
       " 'slide = prs.slides.add_slide(prs.slide_layouts[0])',\n",
       " '',\n",
       " '# Set title and subtitle',\n",
       " 'title = slide.shapes.title',\n",
       " 'title.text = \"Impact of Recent Threats in the Red Sea on Regional and EU Economies\"',\n",
       " 'subtitle = slide.placeholders[1]',\n",
       " 'subtitle.text = \"Disruption of Global Supply Chains, Economic Consequences of Shipping Diversion, Impact on Energy Supplies and Inflation, Risk to International Debt Repayment, Threats to Submarine Communication Cables\"',\n",
       " '',\n",
       " '# Center all text',\n",
       " 'title.text_frame.paragraphs[0].alignment = 1',\n",
       " 'subtitle.text_frame.paragraphs[0].alignment = 1',\n",
       " '',\n",
       " '# Set font size to minimum',\n",
       " 'title.text_frame.paragraphs[0].font.size = Inches(0.1)',\n",
       " 'subtitle.text_frame.paragraphs[0].font.size = Inches(0.1)',\n",
       " '',\n",
       " '# Add bullet points',\n",
       " 'bullet_points = slide.shapes.add_textbox(Inches(1), Inches(2), Inches(8), Inches(4))',\n",
       " 'bullet_points.text_frame.text = \"1. Disruption of Global Supply Chains\\\\n- The attacks by the Houthi militia near the Bab el-Mandeb Strait led to the suspension of Suez transit by major shipping companies, causing global supply chain disruptions. This situation forced some companies to halt production due to delays in shipping and increased freight costs.\\\\n\\\\n2. Economic Consequences of Shipping Diversion\\\\n- Shipping diversions to the Cape of Good Hope route have extended travel times by 10 to 14 days, escalating shipping costs further. This increase is compounded by already rising fuel and insurance expenses, affecting overall trade costs.\\\\n\\\\n3. Impact on Energy Supplies and Inflation\\\\n- Persisting or worsening disruptions could severely impact energy supplies and prices, potentially driving higher inflation rates. This scenario threatens to undermine central bank efforts aimed at stabilizing the economic environment through a \\'soft landing\\'.\\\\n\\\\n4. Risk to International Debt Repayment\\\\n- With high interest rates possibly being maintained by US and EU central banks, developing nations face heightened risks in repaying international debts. This is particularly critical for African nations with looming debt maturity deadlines, escalating the financial strain.\\\\n\\\\n5. Threats to Submarine Communication Cables\\\\n- Suspected involvement of the Houthis in damaging submarine communication cables poses significant risks to critical EU infrastructure, affecting not only security but also economic stability. This has led to urgent EU measures to enhance the resilience of these vital assets.\"',\n",
       " '',\n",
       " '# Save file in ../pptx folder',\n",
       " 'prs.save(\"../pptx/impact_of_recent_threats.pptx\")']"
      ]
     },
     "execution_count": 21,
     "metadata": {},
     "output_type": "execute_result"
    }
   ],
   "source": [
    "output.split('\\n')"
   ]
  },
  {
   "cell_type": "code",
   "execution_count": null,
   "id": "de94f3cf",
   "metadata": {},
   "outputs": [],
   "source": []
  },
  {
   "cell_type": "code",
   "execution_count": null,
   "id": "50f7a1fd",
   "metadata": {},
   "outputs": [],
   "source": []
  },
  {
   "cell_type": "code",
   "execution_count": 22,
   "id": "cd8644ad",
   "metadata": {},
   "outputs": [
    {
     "name": "stdout",
     "output_type": "stream",
     "text": [
      "4\n"
     ]
    }
   ],
   "source": [
    "exec('print(2+2)')"
   ]
  },
  {
   "cell_type": "code",
   "execution_count": 23,
   "id": "fb9714d0",
   "metadata": {},
   "outputs": [],
   "source": [
    "exec(output)"
   ]
  },
  {
   "cell_type": "code",
   "execution_count": null,
   "id": "8f43b0e4",
   "metadata": {},
   "outputs": [],
   "source": []
  },
  {
   "cell_type": "code",
   "execution_count": null,
   "id": "0e44412b",
   "metadata": {},
   "outputs": [],
   "source": []
  }
 ],
 "metadata": {
  "kernelspec": {
   "display_name": "virtual",
   "language": "python",
   "name": "virtual"
  },
  "language_info": {
   "codemirror_mode": {
    "name": "ipython",
    "version": 3
   },
   "file_extension": ".py",
   "mimetype": "text/x-python",
   "name": "python",
   "nbconvert_exporter": "python",
   "pygments_lexer": "ipython3",
   "version": "3.10.14"
  },
  "toc": {
   "base_numbering": 1,
   "nav_menu": {},
   "number_sections": true,
   "sideBar": true,
   "skip_h1_title": false,
   "title_cell": "Table of Contents",
   "title_sidebar": "Contents",
   "toc_cell": false,
   "toc_position": {},
   "toc_section_display": true,
   "toc_window_display": false
  }
 },
 "nbformat": 4,
 "nbformat_minor": 5
}
