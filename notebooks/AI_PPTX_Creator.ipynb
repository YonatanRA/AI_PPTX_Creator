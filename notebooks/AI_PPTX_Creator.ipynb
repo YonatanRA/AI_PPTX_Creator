{
 "cells": [
  {
   "cell_type": "code",
   "execution_count": null,
   "id": "f3e1b89a",
   "metadata": {},
   "outputs": [],
   "source": []
  },
  {
   "cell_type": "code",
   "execution_count": 1,
   "id": "cb6153f1",
   "metadata": {},
   "outputs": [],
   "source": [
    "# import API KEY\n",
    "\n",
    "import os                           # operating system library\n",
    "from dotenv import load_dotenv      # load environment variables  \n",
    "\n",
    "\n",
    "load_dotenv()\n",
    "\n",
    "\n",
    "OPENAI_API_KEY = os.getenv(\"OPENAI_API_KEY\")"
   ]
  },
  {
   "cell_type": "code",
   "execution_count": null,
   "id": "3822e7f8",
   "metadata": {},
   "outputs": [],
   "source": []
  },
  {
   "cell_type": "code",
   "execution_count": 2,
   "id": "8c541de6",
   "metadata": {},
   "outputs": [
    {
     "data": {
      "text/plain": [
       "\"The Suez Canal is a man-made waterway in Egypt, connecting the Mediterranean Sea to the Red Sea. This canal is a crucial international shipping route as it allows ships to travel between Europe and South Asia without navigating around Africa, thereby significantly reducing travel time and distance. Constructed by the French engineer Ferdinand de Lesseps, the canal was completed in 1869 after ten years of work.\\n\\nThe Suez Canal is significant for global trade; it facilitates the easy and quick transport of goods between continents. The canal operates as a sea-level waterway without locks, and its operation is managed by the Suez Canal Authority of Egypt. It has been expanded and modernized several times to accommodate larger ships, notably with a major expansion project completed in 2015 that allowed two-way traffic along part of the route to increase the canal's capacity.\\n\\nDue to its strategic importance, the Suez Canal has also been a focal point in geopolitical conflicts. It was nationalized by Egypt in 1956, leading to the Suez Crisis involving Egypt, Israel, France, and the United Kingdom. The canal has also been closed a few times due to conflicts but remains a vital artery for global maritime trade.\""
      ]
     },
     "execution_count": 2,
     "metadata": {},
     "output_type": "execute_result"
    }
   ],
   "source": [
    "from langchain_openai.chat_models import ChatOpenAI   # LangChain connection to OpenAI\n",
    "\n",
    "model = ChatOpenAI(openai_api_key=OPENAI_API_KEY, model=\"gpt-4-turbo\")\n",
    "\n",
    "response = model.invoke(\"What is the Suez Canal?\")\n",
    "\n",
    "response.content"
   ]
  },
  {
   "cell_type": "code",
   "execution_count": null,
   "id": "db3daccd",
   "metadata": {},
   "outputs": [],
   "source": []
  },
  {
   "cell_type": "code",
   "execution_count": 3,
   "id": "4fcda40c",
   "metadata": {},
   "outputs": [
    {
     "data": {
      "text/plain": [
       "['.DS_Store', '2024_BRIEFING.pdf']"
      ]
     },
     "execution_count": 3,
     "metadata": {},
     "output_type": "execute_result"
    }
   ],
   "source": [
    "os.listdir(\"../pdfs\")"
   ]
  },
  {
   "cell_type": "code",
   "execution_count": 4,
   "id": "84cde6f4",
   "metadata": {},
   "outputs": [],
   "source": [
    "from langchain_community.document_loaders import PyPDFDirectoryLoader"
   ]
  },
  {
   "cell_type": "code",
   "execution_count": 5,
   "id": "041bf6ad",
   "metadata": {},
   "outputs": [],
   "source": [
    "loader = PyPDFDirectoryLoader(\"../pdfs/\")\n",
    "\n",
    "pages = loader.load()"
   ]
  },
  {
   "cell_type": "code",
   "execution_count": 6,
   "id": "3c19ced8",
   "metadata": {},
   "outputs": [
    {
     "data": {
      "text/plain": [
       "8"
      ]
     },
     "execution_count": 6,
     "metadata": {},
     "output_type": "execute_result"
    }
   ],
   "source": [
    "len(pages)"
   ]
  },
  {
   "cell_type": "code",
   "execution_count": null,
   "id": "2a3ba23c",
   "metadata": {},
   "outputs": [],
   "source": []
  },
  {
   "cell_type": "code",
   "execution_count": 7,
   "id": "95ad7a52",
   "metadata": {},
   "outputs": [],
   "source": [
    "from langchain_openai.embeddings import OpenAIEmbeddings\n",
    "\n",
    "\n",
    "vectorizer = OpenAIEmbeddings()"
   ]
  },
  {
   "cell_type": "code",
   "execution_count": 8,
   "id": "75f7b582",
   "metadata": {},
   "outputs": [],
   "source": [
    "from langchain_community.vectorstores import Chroma\n",
    "\n",
    "chroma_db = Chroma.from_documents(pages, vectorizer, persist_directory=\"../chroma_db\")"
   ]
  },
  {
   "cell_type": "code",
   "execution_count": 9,
   "id": "15fea4f6",
   "metadata": {},
   "outputs": [],
   "source": [
    "retriever = chroma_db.as_retriever(search_type=\"mmr\", search_kwargs={\"k\": 2, \"lambda_mult\": 0.25})"
   ]
  },
  {
   "cell_type": "code",
   "execution_count": null,
   "id": "32eda79f",
   "metadata": {},
   "outputs": [],
   "source": []
  },
  {
   "cell_type": "code",
   "execution_count": 10,
   "id": "e4f57219",
   "metadata": {},
   "outputs": [],
   "source": [
    "from langchain.prompts import ChatPromptTemplate"
   ]
  },
  {
   "cell_type": "code",
   "execution_count": 11,
   "id": "2784321a",
   "metadata": {},
   "outputs": [],
   "source": [
    "template = \"\"\"\n",
    "            Given the context below and the question, \n",
    "            please generate a header and 5 bullet points.\n",
    "            List with numbers the bullet points.\n",
    "            Summarize each bullet point in 40 words.\n",
    "            Also fetch numbers to describe the information.\n",
    "\n",
    "            Context: {context}\n",
    "\n",
    "            Question: {question}\n",
    "            \"\"\"\n",
    "\n",
    "\n",
    "prompt = ChatPromptTemplate.from_template(template)"
   ]
  },
  {
   "cell_type": "code",
   "execution_count": null,
   "id": "9e1328ed",
   "metadata": {},
   "outputs": [],
   "source": []
  },
  {
   "cell_type": "code",
   "execution_count": 12,
   "id": "a7db4f38",
   "metadata": {},
   "outputs": [],
   "source": [
    "from langchain_core.output_parsers import StrOutputParser\n",
    "\n",
    "parser = StrOutputParser()"
   ]
  },
  {
   "cell_type": "code",
   "execution_count": 13,
   "id": "4d576b5c",
   "metadata": {},
   "outputs": [],
   "source": [
    "from langchain_core.runnables import RunnablePassthrough"
   ]
  },
  {
   "cell_type": "code",
   "execution_count": 14,
   "id": "dd4d945c",
   "metadata": {},
   "outputs": [],
   "source": [
    "query = \"What are the endnotes of the briefing?\""
   ]
  },
  {
   "cell_type": "code",
   "execution_count": 15,
   "id": "060ae12b",
   "metadata": {},
   "outputs": [],
   "source": [
    "in_chain = {\"context\": retriever, \"question\": RunnablePassthrough()} | prompt | model | parser\n",
    "\n",
    "\n",
    "response = in_chain.invoke(query)"
   ]
  },
  {
   "cell_type": "code",
   "execution_count": 16,
   "id": "ad03427c",
   "metadata": {},
   "outputs": [
    {
     "data": {
      "text/plain": [
       "['### Endnotes of the March 2024 EPRS Briefing on Red Sea Threats',\n",
       " '',\n",
       " '1. **Shipping Rate Increases**',\n",
       " '   - Freight rates from Shanghai to Europe escalated significantly, with a reported increase of 256%. In contrast, routes to the US west coast saw a lesser increase of 162%.',\n",
       " '',\n",
       " '2. **Rising Insurance Costs**',\n",
       " '   - Insurance rates for vessels with cargo valued at $100 million surged from 0.1% to 0.5% or more, translating to an additional cost ranging from $0.5 million to $1 million.',\n",
       " '',\n",
       " '3. **Market Index Fluctuations**',\n",
       " \"   - The Baltic Dry Index peaked at $3,000 in mid-December 2023 but dropped to $1,503 by January. Similarly, Drewry's World Container Index spiked from $1,521 to $3,777 within the same timeframe.\",\n",
       " '',\n",
       " '4. **Prevention of Environmental Disaster**',\n",
       " '   - A potential environmental crisis was averted in August 2023 when the contents of the oil tanker FSO Safer were safely removed, preventing a major oil spill.',\n",
       " '',\n",
       " '5. **Impact on Manufacturing**',\n",
       " '   - Major companies like Tesla, Volvo, and Suzuki faced production halts due to delays in receiving essential parts, highlighting the disruption to global supply chains.',\n",
       " '',\n",
       " '6. **Trade Volume through the Red Sea**',\n",
       " \"   - Approximately 40% of the EU's clothing imports and 50% of shoe imports pass through the Red Sea, showcasing its importance to trade.\",\n",
       " '',\n",
       " '7. **Economic Contribution of the Suez Canal**',\n",
       " \"   - The Suez Canal generated $9.4 billion in 2023, accounting for about 2.3% of Egypt's GDP, underscoring its economic significance.\",\n",
       " '',\n",
       " '8. **Shipping Industry’s Environmental Measures**',\n",
       " '   - Over the past decade, the shipping industry has adopted slower sailing speeds to reduce fuel costs and greenhouse gas emissions, with a 1% increase in speed leading to a 2.2% increase in fuel use.',\n",
       " '',\n",
       " '9. **Submarine Cable Specifications**',\n",
       " '   - Submarine cables, critical for global connectivity, typically measure no more than 60mm in diameter, featuring a complex structure designed to ensure durability and functionality undersea.',\n",
       " '',\n",
       " '10. **Economic Impact of Internet Outages**',\n",
       " '    - A significant financial loss was reported due to internet outages, with damages amounting to approximately $130 million over two weeks, highlighting the critical nature of submarine cables.',\n",
       " '',\n",
       " '11. **EU Funding for Submarine Cable Security**',\n",
       " '    - The EU could support submarine cable projects through various financial mechanisms including grants, procurement, and public-private partnerships, emphasizing the importance of securing internet infrastructure.']"
      ]
     },
     "execution_count": 16,
     "metadata": {},
     "output_type": "execute_result"
    }
   ],
   "source": [
    "response.split('\\n')"
   ]
  },
  {
   "cell_type": "code",
   "execution_count": null,
   "id": "156c8853",
   "metadata": {},
   "outputs": [],
   "source": []
  },
  {
   "cell_type": "code",
   "execution_count": 17,
   "id": "a3b4e14b",
   "metadata": {},
   "outputs": [],
   "source": [
    "from langchain_openai import OpenAI\n",
    "\n",
    "input_model = OpenAI(temperature=0, max_tokens=1024)"
   ]
  },
  {
   "cell_type": "code",
   "execution_count": 18,
   "id": "354dc461",
   "metadata": {},
   "outputs": [],
   "source": [
    "template = \"\"\"\n",
    "            We have provided  information below.\n",
    "            Given this information, please generate python-pptx code for a single \n",
    "            slide with this information set header as title and  \n",
    "            bullet points.\n",
    "            \n",
    "            Put the title as the first cell of the slide.\n",
    "            \n",
    "            Separate the bullet points into separate texts with line separator.\n",
    "            \n",
    "            Set font size to minimum for fixing text to cells. \n",
    "            Save the file in ../pptx/Red Sea Security Threats.pptx path\n",
    "\n",
    "            Information: {context}\n",
    "            \"\"\"\n",
    "\n",
    "\n",
    "prompt = ChatPromptTemplate.from_template(template)"
   ]
  },
  {
   "cell_type": "code",
   "execution_count": 19,
   "id": "39bb21eb",
   "metadata": {},
   "outputs": [],
   "source": [
    "out_chain = prompt | input_model | parser"
   ]
  },
  {
   "cell_type": "code",
   "execution_count": null,
   "id": "11ee14d0",
   "metadata": {},
   "outputs": [],
   "source": [
    "output = out_chain.invoke({\"context\": response})"
   ]
  },
  {
   "cell_type": "code",
   "execution_count": null,
   "id": "4d1987fe",
   "metadata": {},
   "outputs": [],
   "source": [
    "output.split('\\n')"
   ]
  },
  {
   "cell_type": "code",
   "execution_count": null,
   "id": "59da9d1f",
   "metadata": {},
   "outputs": [],
   "source": []
  },
  {
   "cell_type": "code",
   "execution_count": null,
   "id": "640d9e8d",
   "metadata": {},
   "outputs": [],
   "source": []
  },
  {
   "cell_type": "code",
   "execution_count": null,
   "id": "75bd7dde",
   "metadata": {},
   "outputs": [],
   "source": [
    "exec('print(2+2)')"
   ]
  },
  {
   "cell_type": "code",
   "execution_count": null,
   "id": "fa3e2e89",
   "metadata": {},
   "outputs": [],
   "source": [
    "exec(output)"
   ]
  },
  {
   "cell_type": "code",
   "execution_count": null,
   "id": "7a71a655",
   "metadata": {},
   "outputs": [],
   "source": []
  },
  {
   "cell_type": "code",
   "execution_count": null,
   "id": "2b46111f",
   "metadata": {},
   "outputs": [],
   "source": []
  }
 ],
 "metadata": {
  "kernelspec": {
   "display_name": "virtual",
   "language": "python",
   "name": "virtual"
  },
  "language_info": {
   "codemirror_mode": {
    "name": "ipython",
    "version": 3
   },
   "file_extension": ".py",
   "mimetype": "text/x-python",
   "name": "python",
   "nbconvert_exporter": "python",
   "pygments_lexer": "ipython3",
   "version": "3.10.14"
  },
  "toc": {
   "base_numbering": 1,
   "nav_menu": {},
   "number_sections": true,
   "sideBar": true,
   "skip_h1_title": false,
   "title_cell": "Table of Contents",
   "title_sidebar": "Contents",
   "toc_cell": false,
   "toc_position": {},
   "toc_section_display": true,
   "toc_window_display": false
  }
 },
 "nbformat": 4,
 "nbformat_minor": 5
}
