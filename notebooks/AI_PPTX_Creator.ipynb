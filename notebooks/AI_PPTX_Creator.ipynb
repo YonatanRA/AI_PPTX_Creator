{
 "cells": [
  {
   "cell_type": "code",
   "execution_count": null,
   "id": "5415b21a",
   "metadata": {},
   "outputs": [],
   "source": []
  },
  {
   "cell_type": "code",
   "execution_count": 1,
   "id": "368c7fcd",
   "metadata": {},
   "outputs": [],
   "source": [
    "# import API KEY\n",
    "\n",
    "import os                           # operating system library\n",
    "from dotenv import load_dotenv      # load environment variables  \n",
    "\n",
    "\n",
    "load_dotenv()\n",
    "\n",
    "\n",
    "OPENAI_API_KEY = os.getenv(\"OPENAI_API_KEY\")"
   ]
  },
  {
   "cell_type": "code",
   "execution_count": null,
   "id": "91d08a09",
   "metadata": {},
   "outputs": [],
   "source": []
  },
  {
   "cell_type": "code",
   "execution_count": 2,
   "id": "db990d50",
   "metadata": {},
   "outputs": [
    {
     "data": {
      "text/plain": [
       "\"The Suez Canal is a man-made waterway in Egypt, connecting the Mediterranean Sea to the Red Sea. This canal is a critical shortcut for international maritime trade, significantly reducing the travel distance between the North Atlantic and northern Indian oceans by allowing ships to bypass the lengthy journey around the southern tip of Africa via the Cape of Good Hope.\\n\\nOpened in 1869, the Suez Canal was engineered by the French developer Ferdinand de Lesseps but is now owned and maintained by the Suez Canal Authority of Egypt. The canal extends approximately 120 miles (193 kilometers) between Port Said in the north and Suez in the south, with no locks because the sea level is the same at both ends, which facilitates the transit of ships.\\n\\nThe canal's strategic and economic importance cannot be understated, as it serves as a major facilitator of world trade. It allows for the more efficient and faster transportation of oil, natural gas, and various goods between Europe, Asia, and other regions. The passage fees collected from ships passing through the canal are also a significant source of revenue for Egypt.\""
      ]
     },
     "execution_count": 2,
     "metadata": {},
     "output_type": "execute_result"
    }
   ],
   "source": [
    "from langchain_openai.chat_models import ChatOpenAI   # LangChain connection to OpenAI\n",
    "\n",
    "model = ChatOpenAI(openai_api_key=OPENAI_API_KEY, model=\"gpt-4-turbo\")\n",
    "\n",
    "response = model.invoke(\"What is the Suez Canal?\")\n",
    "\n",
    "response.content"
   ]
  },
  {
   "cell_type": "code",
   "execution_count": null,
   "id": "97ea1fe7",
   "metadata": {},
   "outputs": [],
   "source": []
  },
  {
   "cell_type": "code",
   "execution_count": 3,
   "id": "0e1dc15d",
   "metadata": {},
   "outputs": [
    {
     "data": {
      "text/plain": [
       "['2024_BRIEFING.pdf']"
      ]
     },
     "execution_count": 3,
     "metadata": {},
     "output_type": "execute_result"
    }
   ],
   "source": [
    "os.listdir(\"../pdfs\")"
   ]
  },
  {
   "cell_type": "code",
   "execution_count": 4,
   "id": "c80128ea",
   "metadata": {},
   "outputs": [],
   "source": [
    "from langchain_community.document_loaders import PyPDFDirectoryLoader"
   ]
  },
  {
   "cell_type": "code",
   "execution_count": 5,
   "id": "862e7fc6",
   "metadata": {},
   "outputs": [],
   "source": [
    "loader = PyPDFDirectoryLoader(\"../pdfs/\")\n",
    "\n",
    "pages = loader.load()"
   ]
  },
  {
   "cell_type": "code",
   "execution_count": 6,
   "id": "35d74271",
   "metadata": {},
   "outputs": [
    {
     "data": {
      "text/plain": [
       "8"
      ]
     },
     "execution_count": 6,
     "metadata": {},
     "output_type": "execute_result"
    }
   ],
   "source": [
    "len(pages)"
   ]
  },
  {
   "cell_type": "code",
   "execution_count": null,
   "id": "ca054ec6",
   "metadata": {},
   "outputs": [],
   "source": []
  },
  {
   "cell_type": "code",
   "execution_count": 7,
   "id": "4eda1b12",
   "metadata": {},
   "outputs": [],
   "source": [
    "from langchain_openai.embeddings import OpenAIEmbeddings\n",
    "\n",
    "\n",
    "vectorizer = OpenAIEmbeddings()"
   ]
  },
  {
   "cell_type": "code",
   "execution_count": 8,
   "id": "b84fda7b",
   "metadata": {},
   "outputs": [],
   "source": [
    "from langchain_community.vectorstores import Chroma\n",
    "\n",
    "chroma_db = Chroma.from_documents(pages, vectorizer, persist_directory=\"../chroma_db\")"
   ]
  },
  {
   "cell_type": "code",
   "execution_count": 9,
   "id": "aa75dfe2",
   "metadata": {},
   "outputs": [],
   "source": [
    "retriever = chroma_db.as_retriever(search_type=\"mmr\", search_kwargs={\"k\": 2, \"lambda_mult\": 0.25})"
   ]
  },
  {
   "cell_type": "code",
   "execution_count": null,
   "id": "8dc332af",
   "metadata": {},
   "outputs": [],
   "source": []
  },
  {
   "cell_type": "code",
   "execution_count": 10,
   "id": "d1d17388",
   "metadata": {},
   "outputs": [],
   "source": [
    "from langchain.prompts import ChatPromptTemplate"
   ]
  },
  {
   "cell_type": "code",
   "execution_count": 11,
   "id": "3eb535e4",
   "metadata": {},
   "outputs": [],
   "source": [
    "template = \"\"\"\n",
    "            Given the context below and the question, \n",
    "            please generate a header, and 5 bullet points, Summarize each bullet point in 40 words.\n",
    "            Also fetch sub_titles and numbers to describe the information.\n",
    "\n",
    "            Context: {context}\n",
    "\n",
    "            Question: {question}\n",
    "            \"\"\"\n",
    "\n",
    "\n",
    "prompt = ChatPromptTemplate.from_template(template)"
   ]
  },
  {
   "cell_type": "code",
   "execution_count": null,
   "id": "869d2299",
   "metadata": {},
   "outputs": [],
   "source": []
  },
  {
   "cell_type": "code",
   "execution_count": 12,
   "id": "ecf72eca",
   "metadata": {},
   "outputs": [],
   "source": [
    "from langchain_core.output_parsers import StrOutputParser\n",
    "\n",
    "parser = StrOutputParser()"
   ]
  },
  {
   "cell_type": "code",
   "execution_count": 13,
   "id": "6cdd346c",
   "metadata": {},
   "outputs": [],
   "source": [
    "from langchain_core.runnables import RunnablePassthrough"
   ]
  },
  {
   "cell_type": "code",
   "execution_count": 14,
   "id": "140a14f8",
   "metadata": {},
   "outputs": [],
   "source": [
    "query = \"What are the endnotes of the briefing?\""
   ]
  },
  {
   "cell_type": "code",
   "execution_count": 15,
   "id": "41561445",
   "metadata": {},
   "outputs": [
    {
     "name": "stderr",
     "output_type": "stream",
     "text": [
      "Number of requested results 20 is greater than number of elements in index 16, updating n_results = 16\n"
     ]
    },
    {
     "data": {
      "text/plain": [
       "'Header: Key Endnotes from the Briefing on Recent Threats in the Red Sea\\n\\n1. **Author and Graphics Information**\\n   - The briefing was authored by Angelos Delivorias with graphics by Samy Chahri.\\n\\n2. **Document Identification**\\n   - The document is identified as PE 760.390, published in March 2024.\\n\\n3. **Publisher Information**\\n   - Published by the European Parliamentary Research Service (EPRS).\\n\\n4. **Geopolitical Focus**\\n   - The briefing discusses the economic impact of threats in the Red Sea on the region and the EU.\\n\\n5. **Document Structure**\\n   - The briefing includes sections on introduction, impact of the attacks, affected countries, mitigating factors, and EU positions on submarine communications.'"
      ]
     },
     "execution_count": 15,
     "metadata": {},
     "output_type": "execute_result"
    }
   ],
   "source": [
    "in_chain = {\"context\": retriever, \"question\": RunnablePassthrough()} | prompt | model | parser\n",
    "\n",
    "\n",
    "response = in_chain.invoke(query)"
   ]
  },
  {
   "cell_type": "code",
   "execution_count": 16,
   "id": "406a9716",
   "metadata": {},
   "outputs": [
    {
     "data": {
      "text/plain": [
       "['Header: Key Endnotes from the Briefing on Recent Threats in the Red Sea',\n",
       " '',\n",
       " '1. **Author and Graphics Information**',\n",
       " '   - The briefing was authored by Angelos Delivorias with graphics by Samy Chahri.',\n",
       " '',\n",
       " '2. **Document Identification**',\n",
       " '   - The document is identified as PE 760.390, published in March 2024.',\n",
       " '',\n",
       " '3. **Publisher Information**',\n",
       " '   - Published by the European Parliamentary Research Service (EPRS).',\n",
       " '',\n",
       " '4. **Geopolitical Focus**',\n",
       " '   - The briefing discusses the economic impact of threats in the Red Sea on the region and the EU.',\n",
       " '',\n",
       " '5. **Document Structure**',\n",
       " '   - The briefing includes sections on introduction, impact of the attacks, affected countries, mitigating factors, and EU positions on submarine communications.']"
      ]
     },
     "execution_count": 16,
     "metadata": {},
     "output_type": "execute_result"
    }
   ],
   "source": [
    "response.split('\\n')"
   ]
  },
  {
   "cell_type": "code",
   "execution_count": null,
   "id": "8f76e78f",
   "metadata": {},
   "outputs": [],
   "source": []
  },
  {
   "cell_type": "code",
   "execution_count": 17,
   "id": "dc281fdd",
   "metadata": {},
   "outputs": [],
   "source": [
    "from langchain_openai import OpenAI\n",
    "\n",
    "input_model = OpenAI(temperature=0, max_tokens=1024)"
   ]
  },
  {
   "cell_type": "code",
   "execution_count": 24,
   "id": "803ab1b9",
   "metadata": {},
   "outputs": [],
   "source": [
    "template = \"\"\"\n",
    "            We have provided  information below.\n",
    "            Given this information, please generate python-pptx code for a single \n",
    "            slide with this information set header and subtitle as title and  \n",
    "            bullet points.\n",
    "            \n",
    "            Put the title on top of the slide and center all text to slide size.\n",
    "            \n",
    "            Separate the bullet points into separate texts with line separator.\n",
    "            Set font size to minimum for fixing text to cells. Save the file in ../pptx folder\n",
    "\n",
    "            Information: {context}\n",
    "            \"\"\"\n",
    "\n",
    "\n",
    "prompt = ChatPromptTemplate.from_template(template)"
   ]
  },
  {
   "cell_type": "code",
   "execution_count": 25,
   "id": "d067de66",
   "metadata": {},
   "outputs": [],
   "source": [
    "out_chain = prompt | input_model | parser"
   ]
  },
  {
   "cell_type": "code",
   "execution_count": 26,
   "id": "a2c7963b",
   "metadata": {},
   "outputs": [],
   "source": [
    "output = out_chain.invoke({\"context\": response})"
   ]
  },
  {
   "cell_type": "code",
   "execution_count": 27,
   "id": "5edfa347",
   "metadata": {},
   "outputs": [
    {
     "data": {
      "text/plain": [
       "['',\n",
       " '# Import necessary libraries',\n",
       " 'from pptx import Presentation',\n",
       " 'from pptx.util import Inches',\n",
       " '',\n",
       " '# Create a new presentation',\n",
       " 'prs = Presentation()',\n",
       " '',\n",
       " '# Add a slide with title and subtitle',\n",
       " 'slide = prs.slides.add_slide(prs.slide_layouts[0])',\n",
       " 'title = slide.shapes.title',\n",
       " 'subtitle = slide.placeholders[1]',\n",
       " 'title.text = \"Key Endnotes from the Briefing on Recent Threats in the Red Sea\"',\n",
       " 'subtitle.text = \"Header\"',\n",
       " '',\n",
       " '# Center all text to slide size',\n",
       " 'title.text_frame.paragraphs[0].alignment = 1',\n",
       " 'subtitle.text_frame.paragraphs[0].alignment = 1',\n",
       " '',\n",
       " '# Add bullet points',\n",
       " 'bullet_points = [',\n",
       " '    \"1. **Author and Graphics Information**\",',\n",
       " '    \"- The briefing was authored by Angelos Delivorias with graphics by Samy Chahri.\",',\n",
       " '    \"2. **Document Identification**\",',\n",
       " '    \"- The document is identified as PE 760.390, published in March 2024.\",',\n",
       " '    \"3. **Publisher Information**\",',\n",
       " '    \"- Published by the European Parliamentary Research Service (EPRS).\",',\n",
       " '    \"4. **Geopolitical Focus**\",',\n",
       " '    \"- The briefing discusses the economic impact of threats in the Red Sea on the region and the EU.\",',\n",
       " '    \"5. **Document Structure**\",',\n",
       " '    \"- The briefing includes sections on introduction, impact of the attacks, affected countries, mitigating factors, and EU positions on submarine communications.\"',\n",
       " ']',\n",
       " '',\n",
       " '# Add bullet points to slide',\n",
       " 'left = Inches(1)',\n",
       " 'top = Inches(2)',\n",
       " 'width = Inches(9)',\n",
       " 'height = Inches(0.5)',\n",
       " 'for point in bullet_points:',\n",
       " '    text_frame = slide.shapes.add_textbox(left, top, width, height).text_frame',\n",
       " '    text_frame.text = point',\n",
       " '    text_frame.paragraphs[0].font.size = Inches(0.15)',\n",
       " '    top = top + Inches(0.5)',\n",
       " '',\n",
       " '# Save the file in ../pptx folder',\n",
       " 'prs.save(\"../pptx/Endnotes.pptx\")']"
      ]
     },
     "execution_count": 27,
     "metadata": {},
     "output_type": "execute_result"
    }
   ],
   "source": [
    "output.split('\\n')"
   ]
  },
  {
   "cell_type": "code",
   "execution_count": null,
   "id": "dd12b33e",
   "metadata": {},
   "outputs": [],
   "source": []
  },
  {
   "cell_type": "code",
   "execution_count": null,
   "id": "1d66331b",
   "metadata": {},
   "outputs": [],
   "source": []
  },
  {
   "cell_type": "code",
   "execution_count": 28,
   "id": "6b3785f8",
   "metadata": {},
   "outputs": [
    {
     "name": "stdout",
     "output_type": "stream",
     "text": [
      "4\n"
     ]
    }
   ],
   "source": [
    "exec('print(2+2)')"
   ]
  },
  {
   "cell_type": "code",
   "execution_count": 29,
   "id": "3b5526f5",
   "metadata": {},
   "outputs": [],
   "source": [
    "exec(output)"
   ]
  },
  {
   "cell_type": "code",
   "execution_count": null,
   "id": "54985d7e",
   "metadata": {},
   "outputs": [],
   "source": []
  },
  {
   "cell_type": "code",
   "execution_count": null,
   "id": "a0278fe9",
   "metadata": {},
   "outputs": [],
   "source": []
  }
 ],
 "metadata": {
  "kernelspec": {
   "display_name": "virtual",
   "language": "python",
   "name": "virtual"
  },
  "language_info": {
   "codemirror_mode": {
    "name": "ipython",
    "version": 3
   },
   "file_extension": ".py",
   "mimetype": "text/x-python",
   "name": "python",
   "nbconvert_exporter": "python",
   "pygments_lexer": "ipython3",
   "version": "3.10.14"
  },
  "toc": {
   "base_numbering": 1,
   "nav_menu": {},
   "number_sections": true,
   "sideBar": true,
   "skip_h1_title": false,
   "title_cell": "Table of Contents",
   "title_sidebar": "Contents",
   "toc_cell": false,
   "toc_position": {},
   "toc_section_display": true,
   "toc_window_display": false
  }
 },
 "nbformat": 4,
 "nbformat_minor": 5
}
