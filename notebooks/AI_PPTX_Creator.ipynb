{
 "cells": [
  {
   "cell_type": "code",
   "execution_count": null,
   "id": "483ab8a7",
   "metadata": {},
   "outputs": [],
   "source": []
  },
  {
   "cell_type": "code",
   "execution_count": 1,
   "id": "e6cffc69",
   "metadata": {},
   "outputs": [],
   "source": [
    "# import API KEY\n",
    "\n",
    "import os                           # operating system library\n",
    "from dotenv import load_dotenv      # load environment variables  \n",
    "\n",
    "\n",
    "load_dotenv()\n",
    "\n",
    "\n",
    "OPENAI_API_KEY = os.getenv(\"OPENAI_API_KEY\")"
   ]
  },
  {
   "cell_type": "code",
   "execution_count": null,
   "id": "1ea8aa58",
   "metadata": {},
   "outputs": [],
   "source": []
  },
  {
   "cell_type": "code",
   "execution_count": 2,
   "id": "4e0f9582",
   "metadata": {},
   "outputs": [
    {
     "data": {
      "text/plain": [
       "\"The Suez Canal is a man-made waterway in Egypt, connecting the Mediterranean Sea to the Red Sea. This canal is a crucial global shipping route because it allows vessels to travel between Europe and South Asia without navigating around Africa, thereby significantly reducing travel time and distance.\\n\\nOpened in 1869, the canal was engineered by the French diplomat Ferdinand de Lesseps. It is about 193 kilometers (120 miles) long, 24 meters (79 feet) deep, and, after several expansions, up to 205 meters (673 feet) wide. The Suez Canal does not contain locks because the water level in both the Mediterranean and the Red Sea are roughly the same, allowing ships to sail smoothly between the two seas.\\n\\nThe canal is strategically and economically significant. It handles about 10% of the world's maritime trade, including the transportation of oil and natural gas, making it a key asset in international trade. The canal has also been the focus of geopolitical interest and conflicts, notably during the Suez Crisis in 1956 when Egypt nationalized the canal, leading to a military conflict involving Egypt, Israel, France, and the United Kingdom.\\n\\nEgypt's control of the canal allows it to charge tolls for passage, which is a significant source of revenue for the country. The canal continues to be a focal point for international trade and diplomacy.\""
      ]
     },
     "execution_count": 2,
     "metadata": {},
     "output_type": "execute_result"
    }
   ],
   "source": [
    "from langchain_openai.chat_models import ChatOpenAI   # LangChain connection to OpenAI\n",
    "\n",
    "model = ChatOpenAI(openai_api_key=OPENAI_API_KEY, model=\"gpt-4-turbo\")\n",
    "\n",
    "response = model.invoke(\"What is the Suez Canal?\")\n",
    "\n",
    "response.content"
   ]
  },
  {
   "cell_type": "code",
   "execution_count": null,
   "id": "4c1fbc80",
   "metadata": {},
   "outputs": [],
   "source": []
  },
  {
   "cell_type": "code",
   "execution_count": 3,
   "id": "c0e4df0e",
   "metadata": {},
   "outputs": [
    {
     "data": {
      "text/plain": [
       "['.DS_Store', '2024_BRIEFING.pdf']"
      ]
     },
     "execution_count": 3,
     "metadata": {},
     "output_type": "execute_result"
    }
   ],
   "source": [
    "os.listdir(\"../pdfs\")"
   ]
  },
  {
   "cell_type": "code",
   "execution_count": 4,
   "id": "0341f340",
   "metadata": {},
   "outputs": [],
   "source": [
    "from langchain_community.document_loaders import PyPDFDirectoryLoader"
   ]
  },
  {
   "cell_type": "code",
   "execution_count": 5,
   "id": "dac837b5",
   "metadata": {},
   "outputs": [],
   "source": [
    "loader = PyPDFDirectoryLoader(\"../pdfs/\")\n",
    "\n",
    "pages = loader.load()"
   ]
  },
  {
   "cell_type": "code",
   "execution_count": 6,
   "id": "5b8f7c18",
   "metadata": {},
   "outputs": [
    {
     "data": {
      "text/plain": [
       "8"
      ]
     },
     "execution_count": 6,
     "metadata": {},
     "output_type": "execute_result"
    }
   ],
   "source": [
    "len(pages)"
   ]
  },
  {
   "cell_type": "code",
   "execution_count": null,
   "id": "08bb29d9",
   "metadata": {},
   "outputs": [],
   "source": []
  },
  {
   "cell_type": "code",
   "execution_count": 7,
   "id": "c7346fc5",
   "metadata": {},
   "outputs": [],
   "source": [
    "from langchain_openai.embeddings import OpenAIEmbeddings\n",
    "\n",
    "\n",
    "vectorizer = OpenAIEmbeddings()"
   ]
  },
  {
   "cell_type": "code",
   "execution_count": 8,
   "id": "ba349a67",
   "metadata": {},
   "outputs": [],
   "source": [
    "from langchain_community.vectorstores import Chroma\n",
    "\n",
    "chroma_db = Chroma.from_documents(pages, vectorizer, persist_directory=\"../chroma_db\")"
   ]
  },
  {
   "cell_type": "code",
   "execution_count": 9,
   "id": "c379c247",
   "metadata": {},
   "outputs": [],
   "source": [
    "retriever = chroma_db.as_retriever(search_type=\"mmr\", search_kwargs={\"k\": 2, \"lambda_mult\": 0.25})"
   ]
  },
  {
   "cell_type": "code",
   "execution_count": null,
   "id": "d20315d6",
   "metadata": {},
   "outputs": [],
   "source": []
  },
  {
   "cell_type": "code",
   "execution_count": 10,
   "id": "b0fcbfd4",
   "metadata": {},
   "outputs": [],
   "source": [
    "from langchain.prompts import ChatPromptTemplate"
   ]
  },
  {
   "cell_type": "code",
   "execution_count": 11,
   "id": "a1100eef",
   "metadata": {},
   "outputs": [],
   "source": [
    "template = \"\"\"\n",
    "            Given the context below and the question, \n",
    "            please generate a header, and 5 bullet points, Summarize each bullet point in 40 words.\n",
    "            Also fetch sub_titles and numbers to describe the information.\n",
    "\n",
    "            Context: {context}\n",
    "\n",
    "            Question: {question}\n",
    "            \"\"\"\n",
    "\n",
    "\n",
    "prompt = ChatPromptTemplate.from_template(template)"
   ]
  },
  {
   "cell_type": "code",
   "execution_count": null,
   "id": "54b359ca",
   "metadata": {},
   "outputs": [],
   "source": []
  },
  {
   "cell_type": "code",
   "execution_count": 12,
   "id": "bc305bc4",
   "metadata": {},
   "outputs": [],
   "source": [
    "from langchain_core.output_parsers import StrOutputParser\n",
    "\n",
    "parser = StrOutputParser()"
   ]
  },
  {
   "cell_type": "code",
   "execution_count": 13,
   "id": "7d635969",
   "metadata": {},
   "outputs": [],
   "source": [
    "from langchain_core.runnables import RunnablePassthrough"
   ]
  },
  {
   "cell_type": "code",
   "execution_count": 14,
   "id": "3448d915",
   "metadata": {},
   "outputs": [],
   "source": [
    "query = \"What are the endnotes of the briefing?\""
   ]
  },
  {
   "cell_type": "code",
   "execution_count": 15,
   "id": "6bbd1419",
   "metadata": {},
   "outputs": [],
   "source": [
    "in_chain = {\"context\": retriever, \"question\": RunnablePassthrough()} | prompt | model | parser\n",
    "\n",
    "\n",
    "response = in_chain.invoke(query)"
   ]
  },
  {
   "cell_type": "code",
   "execution_count": 16,
   "id": "44651877",
   "metadata": {},
   "outputs": [
    {
     "data": {
      "text/plain": [
       "['Header: Key Insights from the European Parliament Briefing on Red Sea Security Threats',\n",
       " '',\n",
       " '1. **Impact of Houthi Attacks on Shipping Routes**',\n",
       " '   - Since mid-November 2023, Houthi forces have targeted Western ships near the Bab el-Mandeb Strait, forcing major shipping companies to reroute from the Suez Canal, thereby increasing transit times and disrupting global supply chains.',\n",
       " '',\n",
       " '2. **Economic Consequences of Shipping Diversions**',\n",
       " '   - The diversion of shipping routes to the Cape of Good Hope due to attacks and Panama Canal issues has led to increased shipping durations and costs. This has implications for global trade, potentially affecting energy supplies and contributing to inflation pressures.',\n",
       " '',\n",
       " '3. **Risks to Submarine Communication Cables**',\n",
       " '   - Damage to submarine communications cables, vital for global connectivity, poses significant risks. This infrastructure is crucial for secure government and commercial communications globally.',\n",
       " '',\n",
       " \"4. **EU's Response to Submarine Cable Threats**\",\n",
       " '   - Following recent incidents, the European Commission has emphasized the need for enhanced security and resilience of submarine cable infrastructures. Recommendations include regular risk assessments, stress-tests, and updated national mappings of cable infrastructure.',\n",
       " '',\n",
       " \"5. **European Parliament's Stance on Connectivity and Security**\",\n",
       " '   - The European Parliament has acknowledged the crucial role of connectivity in addressing new security challenges within the EU and globally, emphasizing cooperation in cybersecurity and digital infrastructure resilience.',\n",
       " '',\n",
       " \"These points summarize the European Parliament's briefing on the recent threats in the Red Sea and the consequential broader security and economic implications for the region and the EU.\"]"
      ]
     },
     "execution_count": 16,
     "metadata": {},
     "output_type": "execute_result"
    }
   ],
   "source": [
    "response.split('\\n')"
   ]
  },
  {
   "cell_type": "code",
   "execution_count": null,
   "id": "00d0a6f3",
   "metadata": {},
   "outputs": [],
   "source": []
  },
  {
   "cell_type": "code",
   "execution_count": 17,
   "id": "5bfe8de0",
   "metadata": {},
   "outputs": [],
   "source": [
    "from langchain_openai import OpenAI\n",
    "\n",
    "input_model = OpenAI(temperature=0, max_tokens=1024)"
   ]
  },
  {
   "cell_type": "code",
   "execution_count": 18,
   "id": "d0e08bff",
   "metadata": {},
   "outputs": [],
   "source": [
    "template = \"\"\"\n",
    "            We have provided  information below.\n",
    "            Given this information, please generate python-pptx code for a single \n",
    "            slide with this information set header and subtitle as title and  \n",
    "            bullet points.\n",
    "            \n",
    "            Put the title on top of the slide and center all text to slide size.\n",
    "            \n",
    "            Separate the bullet points into separate texts with line separator.\n",
    "            Set font size to minimum for fixing text to cells. Save the file in ../pptx folder\n",
    "\n",
    "            Information: {context}\n",
    "            \"\"\"\n",
    "\n",
    "\n",
    "prompt = ChatPromptTemplate.from_template(template)"
   ]
  },
  {
   "cell_type": "code",
   "execution_count": 19,
   "id": "ce87f954",
   "metadata": {},
   "outputs": [],
   "source": [
    "out_chain = prompt | input_model | parser"
   ]
  },
  {
   "cell_type": "code",
   "execution_count": 20,
   "id": "e5a2aa09",
   "metadata": {},
   "outputs": [],
   "source": [
    "output = out_chain.invoke({\"context\": response})"
   ]
  },
  {
   "cell_type": "code",
   "execution_count": 21,
   "id": "088fcc24",
   "metadata": {},
   "outputs": [
    {
     "data": {
      "text/plain": [
       "['',\n",
       " '# Import necessary libraries',\n",
       " 'from pptx import Presentation',\n",
       " 'from pptx.util import Inches',\n",
       " '',\n",
       " '# Create a new presentation',\n",
       " 'prs = Presentation()',\n",
       " '',\n",
       " '# Add a slide with title and subtitle',\n",
       " 'slide = prs.slides.add_slide(prs.slide_layouts[0])',\n",
       " 'title = slide.shapes.title',\n",
       " 'subtitle = slide.placeholders[1]',\n",
       " 'title.text = \"Key Insights from the European Parliament Briefing on Red Sea Security Threats\"',\n",
       " 'subtitle.text = \"Information:\"',\n",
       " '',\n",
       " '# Set text alignment to center',\n",
       " 'title.text_frame.paragraphs[0].alignment = 1',\n",
       " 'subtitle.text_frame.paragraphs[0].alignment = 1',\n",
       " '',\n",
       " '# Add bullet points',\n",
       " 'bullet_points = [',\n",
       " '    \"Impact of Houthi Attacks on Shipping Routes\",',\n",
       " '    \"- Since mid-November 2023, Houthi forces have targeted Western ships near the Bab el-Mandeb Strait, forcing major shipping companies to reroute from the Suez Canal, thereby increasing transit times and disrupting global supply chains.\",',\n",
       " '    \"Economic Consequences of Shipping Diversions\",',\n",
       " '    \"- The diversion of shipping routes to the Cape of Good Hope due to attacks and Panama Canal issues has led to increased shipping durations and costs. This has implications for global trade, potentially affecting energy supplies and contributing to inflation pressures.\",',\n",
       " '    \"Risks to Submarine Communication Cables\",',\n",
       " '    \"- Damage to submarine communications cables, vital for global connectivity, poses significant risks. This infrastructure is crucial for secure government and commercial communications globally.\",',\n",
       " '    \"EU\\'s Response to Submarine Cable Threats\",',\n",
       " '    \"- Following recent incidents, the European Commission has emphasized the need for enhanced security and resilience of submarine cable infrastructures. Recommendations include regular risk assessments, stress-tests, and updated national mappings of cable infrastructure.\",',\n",
       " '    \"European Parliament\\'s Stance on Connectivity and Security\",',\n",
       " '    \"- The European Parliament has acknowledged the crucial role of connectivity in addressing new security challenges within the EU and globally, emphasizing cooperation in cybersecurity and digital infrastructure resilience.\"',\n",
       " ']',\n",
       " '',\n",
       " '# Add bullet points to slide',\n",
       " 'left = Inches(1)',\n",
       " 'top = Inches(2)',\n",
       " 'width = Inches(9)',\n",
       " 'height = Inches(0.5)',\n",
       " 'for point in bullet_points:',\n",
       " '    text_frame = slide.shapes.add_textbox(left, top, width, height).text_frame',\n",
       " '    text_frame.text = point',\n",
       " '    text_frame.paragraphs[0].font.size = Inches(0.15)',\n",
       " '    top = top + Inches(0.5)',\n",
       " '',\n",
       " '# Save the presentation',\n",
       " 'prs.save(\"../pptx/Red Sea Security Threats.pptx\")']"
      ]
     },
     "execution_count": 21,
     "metadata": {},
     "output_type": "execute_result"
    }
   ],
   "source": [
    "output.split('\\n')"
   ]
  },
  {
   "cell_type": "code",
   "execution_count": null,
   "id": "0e8e760f",
   "metadata": {},
   "outputs": [],
   "source": []
  },
  {
   "cell_type": "code",
   "execution_count": null,
   "id": "be5a798c",
   "metadata": {},
   "outputs": [],
   "source": []
  },
  {
   "cell_type": "code",
   "execution_count": 22,
   "id": "63b24fe2",
   "metadata": {},
   "outputs": [
    {
     "name": "stdout",
     "output_type": "stream",
     "text": [
      "4\n"
     ]
    }
   ],
   "source": [
    "exec('print(2+2)')"
   ]
  },
  {
   "cell_type": "code",
   "execution_count": 23,
   "id": "873e4ecb",
   "metadata": {},
   "outputs": [],
   "source": [
    "exec(output)"
   ]
  },
  {
   "cell_type": "code",
   "execution_count": null,
   "id": "20a4d203",
   "metadata": {},
   "outputs": [],
   "source": []
  },
  {
   "cell_type": "code",
   "execution_count": null,
   "id": "703d3d47",
   "metadata": {},
   "outputs": [],
   "source": []
  }
 ],
 "metadata": {
  "kernelspec": {
   "display_name": "virtual",
   "language": "python",
   "name": "virtual"
  },
  "language_info": {
   "codemirror_mode": {
    "name": "ipython",
    "version": 3
   },
   "file_extension": ".py",
   "mimetype": "text/x-python",
   "name": "python",
   "nbconvert_exporter": "python",
   "pygments_lexer": "ipython3",
   "version": "3.10.14"
  },
  "toc": {
   "base_numbering": 1,
   "nav_menu": {},
   "number_sections": true,
   "sideBar": true,
   "skip_h1_title": false,
   "title_cell": "Table of Contents",
   "title_sidebar": "Contents",
   "toc_cell": false,
   "toc_position": {},
   "toc_section_display": true,
   "toc_window_display": false
  }
 },
 "nbformat": 4,
 "nbformat_minor": 5
}
