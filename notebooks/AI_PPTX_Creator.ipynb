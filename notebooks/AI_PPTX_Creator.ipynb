{
 "cells": [
  {
   "cell_type": "markdown",
   "id": "0b10f757",
   "metadata": {},
   "source": [
    "# AI PPTX Creator"
   ]
  },
  {
   "cell_type": "markdown",
   "id": "30ac5e8d",
   "metadata": {
    "toc": true
   },
   "source": [
    "<h1>Table of Contents<span class=\"tocSkip\"></span></h1>\n",
    "<div class=\"toc\"><ul class=\"toc-item\"><li><span><a href=\"#1.-OpenAI-API-KEY\" data-toc-modified-id=\"1.-OpenAI-API-KEY-1\">1. OpenAI API KEY</a></span></li><li><span><a href=\"#2.-Testing-GPT4-from-LangChain\" data-toc-modified-id=\"2.-Testing-GPT4-from-LangChain-2\">2. Testing GPT4 from LangChain</a></span></li><li><span><a href=\"#3.-Loading-PDF-file\" data-toc-modified-id=\"3.-Loading-PDF-file-3\">3. Loading PDF file</a></span></li><li><span><a href=\"#4.-Embedding-Model-and-Vector-Database\" data-toc-modified-id=\"4.-Embedding-Model-and-Vector-Database-4\">4. Embedding Model and Vector Database</a></span></li><li><span><a href=\"#5.-Prompt-template\" data-toc-modified-id=\"5.-Prompt-template-5\">5. Prompt template</a></span></li><li><span><a href=\"#6.-Creating-the-first-chain\" data-toc-modified-id=\"6.-Creating-the-first-chain-6\">6. Creating the first chain</a></span></li><li><span><a href=\"#7.-Creating-the-second-chain\" data-toc-modified-id=\"7.-Creating-the-second-chain-7\">7. Creating the second chain</a></span></li><li><span><a href=\"#8.-Creating-the-pptx-file\" data-toc-modified-id=\"8.-Creating-the-pptx-file-8\">8. Creating the pptx file</a></span></li></ul></div>"
   ]
  },
  {
   "cell_type": "markdown",
   "id": "ff0e467b",
   "metadata": {},
   "source": [
    "## 1. OpenAI API KEY\n",
    "To carry out this project, we will need an API KEY from OpenAI to use the GPT-4 Turbo model. This API KEY can be obtained at https://platform.openai.com/api-keys. It is only displayed once, so it must be saved at the moment it is obtained. Of course, we will need to create an account to get it.\n",
    "\n",
    "We store the API KEY in a .env file to load it with the dotenv library and use it as an environment variable. This file is added to the .gitignore to ensure that it cannot be seen if we upload the code to GitHub, for example."
   ]
  },
  {
   "cell_type": "code",
   "execution_count": 1,
   "id": "98e5f6fc",
   "metadata": {},
   "outputs": [],
   "source": [
    "# import API KEY\n",
    "\n",
    "import os                           # operating system library\n",
    "from dotenv import load_dotenv      # load environment variables  \n",
    "\n",
    "\n",
    "load_dotenv()\n",
    "\n",
    "\n",
    "OPENAI_API_KEY = os.getenv(\"OPENAI_API_KEY\")"
   ]
  },
  {
   "cell_type": "markdown",
   "id": "661bfd24",
   "metadata": {},
   "source": [
    "## 2. Testing GPT4 from LangChain\n",
    "\n",
    "We are going to test the connection from LangChain to the GPT-4 model. Let's ask what the Suez canal is."
   ]
  },
  {
   "cell_type": "code",
   "execution_count": 2,
   "id": "66cbfd94",
   "metadata": {},
   "outputs": [
    {
     "data": {
      "text/plain": [
       "\"The Suez Canal is a man-made waterway in Egypt, connecting the Mediterranean Sea to the Red Sea. It was officially opened in 1869 and is one of the world's most heavily used shipping lanes. The canal provides a direct route for maritime traffic between Europe and Asia, bypassing the need to sail around Africa through the Cape of Good Hope. This significantly reduces the travel distance and time for ships, making it a critical route for international trade.\\n\\nThe canal is approximately 193 kilometers (120 miles) long, and its construction was a monumental engineering feat led by the French engineer Ferdinand de Lesseps, although it was built largely by forced Egyptian labor. The Suez Canal has no locks, as the sea level is the same at both ends, and it can accommodate ships of various sizes, including some of the largest vessels, known as supertankers.\\n\\nOver the years, the canal has been expanded and modernized to accommodate increasing maritime traffic and larger ships. It is also a strategic and economic asset for Egypt, generating significant revenue from the tolls charged to passing ships. The canal has been a focal point in geopolitical conflicts, notably during the Suez Crisis of 1956, when it was nationalized by Egyptian President Gamal Abdel Nasser, leading to a brief military conflict involving Egypt, Israel, France, and the United Kingdom.\""
      ]
     },
     "execution_count": 2,
     "metadata": {},
     "output_type": "execute_result"
    }
   ],
   "source": [
    "from langchain_openai.chat_models import ChatOpenAI   # LangChain connection to OpenAI\n",
    "\n",
    "model = ChatOpenAI(model=\"gpt-4-turbo\")\n",
    "\n",
    "response = model.invoke(\"What is the Suez Canal?\")\n",
    "\n",
    "response.content"
   ]
  },
  {
   "cell_type": "markdown",
   "id": "9b0941cb",
   "metadata": {},
   "source": [
    "## 3. Loading PDF file\n",
    "\n",
    "Now, we load the [Recent threats in the Red Sea](https://www.europarl.europa.eu/RegData/etudes/BRIE/2024/760390/EPRS_BRI(2024)760390_EN.pdf) PDF file previously downloaded, a briefing published by the European Parliament in 2024."
   ]
  },
  {
   "cell_type": "code",
   "execution_count": 3,
   "id": "ba5a9e99",
   "metadata": {},
   "outputs": [
    {
     "data": {
      "text/plain": [
       "['.DS_Store', '2024_BRIEFING.pdf']"
      ]
     },
     "execution_count": 3,
     "metadata": {},
     "output_type": "execute_result"
    }
   ],
   "source": [
    "os.listdir(\"../pdfs\")"
   ]
  },
  {
   "cell_type": "code",
   "execution_count": 4,
   "id": "9a4347e2",
   "metadata": {},
   "outputs": [],
   "source": [
    "from langchain_community.document_loaders import PyPDFDirectoryLoader"
   ]
  },
  {
   "cell_type": "code",
   "execution_count": 5,
   "id": "c4c719ef",
   "metadata": {},
   "outputs": [],
   "source": [
    "# loading pdf file\n",
    "\n",
    "loader = PyPDFDirectoryLoader(\"../pdfs/\")\n",
    "\n",
    "pages = loader.load()"
   ]
  },
  {
   "cell_type": "code",
   "execution_count": 6,
   "id": "af70085f",
   "metadata": {},
   "outputs": [
    {
     "data": {
      "text/plain": [
       "8"
      ]
     },
     "execution_count": 6,
     "metadata": {},
     "output_type": "execute_result"
    }
   ],
   "source": [
    "# nº of pages in pdf\n",
    "\n",
    "len(pages)"
   ]
  },
  {
   "cell_type": "markdown",
   "id": "ee0aab90",
   "metadata": {},
   "source": [
    "## 4. Embedding Model and Vector Database\n",
    "\n",
    "Embeddings transform data, especially textual data, into a format, usually a vector of numbers, that ML algorithms can process effectively. These embeddings capture the contextual relationships and semantic meanings of words, phrases, or documents, enabling various applications in AI.\n",
    "\n",
    "Chroma DB is an open-source vector database designed to store and retrieve vector embeddings efficiently. It is particularly useful for enhancing LLMs by providing relevant context to user inquiries. Chroma DB allows for the storage of embeddings along with metadata, which can later be utilized by LLMs or for semantic search engines over text data."
   ]
  },
  {
   "cell_type": "code",
   "execution_count": 7,
   "id": "f0fff38b",
   "metadata": {},
   "outputs": [],
   "source": [
    "# embedding model from OpenAI\n",
    "\n",
    "from langchain_openai.embeddings import OpenAIEmbeddings\n",
    "\n",
    "vectorizer = OpenAIEmbeddings()"
   ]
  },
  {
   "cell_type": "code",
   "execution_count": 8,
   "id": "db3f5571",
   "metadata": {},
   "outputs": [],
   "source": [
    "# storing vectors in ChromaDB\n",
    "\n",
    "from langchain_community.vectorstores import Chroma\n",
    "\n",
    "chroma_db = Chroma.from_documents(pages, vectorizer, persist_directory=\"../chroma_db\")"
   ]
  },
  {
   "cell_type": "code",
   "execution_count": 9,
   "id": "ca0fe8b0",
   "metadata": {},
   "outputs": [],
   "source": [
    "# object to retrieve 2 pages with maximal marginal relevance algorithm\n",
    "\n",
    "retriever = chroma_db.as_retriever(search_type=\"mmr\", search_kwargs={\"k\": 2, \"lambda_mult\": 0.25})"
   ]
  },
  {
   "cell_type": "markdown",
   "id": "ed9b6327",
   "metadata": {},
   "source": [
    "## 5. Prompt template\n",
    "\n",
    "Prompt templates are predefined recipes for generating instructions for language models.\n",
    "\n",
    "A template can include instructions, context, and specific questions suitable for a given task. LangChain provides tools for creating and working with instruction templates and also strives to create model-agnostic templates to facilitate the reuse of existing templates across different language models.\n",
    "\n",
    "We write the template for the first LLM to create the bullet point list."
   ]
  },
  {
   "cell_type": "code",
   "execution_count": 10,
   "id": "88c2bec9",
   "metadata": {},
   "outputs": [],
   "source": [
    "from langchain.prompts import ChatPromptTemplate"
   ]
  },
  {
   "cell_type": "code",
   "execution_count": 11,
   "id": "57636dc7",
   "metadata": {},
   "outputs": [],
   "source": [
    "template = \"\"\"\n",
    "            Given the context below and the question, \n",
    "            please generate a header and 10 bullet points.\n",
    "            List with numbers the bullet points.\n",
    "            Summarize each bullet point in 40 words.\n",
    "            \n",
    "            Put a line separator after `:` symbol.\n",
    "\n",
    "            Context: {context}\n",
    "\n",
    "            Question: {question}\n",
    "            \"\"\"\n",
    "\n",
    "\n",
    "prompt = ChatPromptTemplate.from_template(template)"
   ]
  },
  {
   "cell_type": "markdown",
   "id": "1b4eb156",
   "metadata": {},
   "source": [
    "## 6. Creating the first chain\n",
    "\n",
    "The first chain creates the bullet point list."
   ]
  },
  {
   "cell_type": "code",
   "execution_count": 12,
   "id": "83306cf8",
   "metadata": {},
   "outputs": [],
   "source": [
    "from langchain_core.output_parsers import StrOutputParser\n",
    "\n",
    "parser = StrOutputParser()"
   ]
  },
  {
   "cell_type": "code",
   "execution_count": 13,
   "id": "70144b26",
   "metadata": {},
   "outputs": [],
   "source": [
    "from langchain_core.runnables import RunnablePassthrough"
   ]
  },
  {
   "cell_type": "code",
   "execution_count": 14,
   "id": "3b6c7996",
   "metadata": {},
   "outputs": [],
   "source": [
    "query = \"What are the endnotes of the briefing?\""
   ]
  },
  {
   "cell_type": "code",
   "execution_count": 15,
   "id": "10607841",
   "metadata": {},
   "outputs": [],
   "source": [
    "in_chain = {\"context\": retriever, \"question\": RunnablePassthrough()} | prompt | model | parser\n",
    "\n",
    "\n",
    "response = in_chain.invoke(query)"
   ]
  },
  {
   "cell_type": "code",
   "execution_count": 16,
   "id": "c6ada1e8",
   "metadata": {},
   "outputs": [
    {
     "data": {
      "text/plain": [
       "['**Header: Endnotes of the March 2024 EPRS Briefing on Recent Threats in the Red Sea**',\n",
       " '',\n",
       " '1. **Authorship and Research Team**:',\n",
       " '   - The briefing was authored by Angelos Delivorias with graphic support from Samy Chahri, under the European Parliamentary Research Service.',\n",
       " '',\n",
       " '2. **Document Identification**:',\n",
       " '   - The document is cataloged as PE 760.390 and was published in March 2024, labeled in English (EN).',\n",
       " '',\n",
       " '3. **Main Subject Focus**:',\n",
       " '   - The document focuses on the recent attacks by the Iran-backed Houthi militia on commercial shipping in the Red Sea, particularly near the Bab el-Mandeb Strait.',\n",
       " '',\n",
       " '4. **Economic Repercussions Addressed**:',\n",
       " '   - It discusses the economic impacts on regional and EU economies, highlighting disruptions in global supply chains and potential inflationary pressures.',\n",
       " '',\n",
       " '5. **Shipping Route Alternatives**:',\n",
       " '   - Due to the attacks, major shipping companies have suspended transits through the Suez Canal, opting for the longer route around the Cape of Good Hope.',\n",
       " '',\n",
       " '6. **Increased Shipping Costs**:',\n",
       " '   - The briefing notes a rise in shipping prices due to increased fuel and insurance costs, exacerbated by the need to use longer alternative shipping routes.',\n",
       " '',\n",
       " '7. **Impact on Global Supply Chains**:',\n",
       " '   - Delays caused by the diversion of shipping routes have led to disruptions in global supply chains, with some companies halting production.',\n",
       " '',\n",
       " '8. **Potential Long-term Economic Effects**:',\n",
       " '   - If the situation persists or worsens, it could further affect energy supplies and prices, contributing to higher inflation and complicating central bank efforts for economic stability.',\n",
       " '',\n",
       " '9. **Risks to Developing Countries**:',\n",
       " '   - The document highlights concerns about high interest rates affecting developing countries, particularly those in Africa facing debt repayment risks.',\n",
       " '',\n",
       " '10. **Security Measures for Submarine Cables**:',\n",
       " '    - Following incidents suspected to involve damage to submarine communications cables, the European Commission adopted recommendations on improving the security and resilience of these critical infrastructures.']"
      ]
     },
     "execution_count": 16,
     "metadata": {},
     "output_type": "execute_result"
    }
   ],
   "source": [
    "response.split(\"\\n\")"
   ]
  },
  {
   "cell_type": "markdown",
   "id": "8ffde671",
   "metadata": {},
   "source": [
    "## 7. Creating the second chain\n",
    "\n",
    "The second chain writes the python code to create the pptx file."
   ]
  },
  {
   "cell_type": "code",
   "execution_count": 17,
   "id": "9e839f06",
   "metadata": {},
   "outputs": [],
   "source": [
    "from langchain_openai import OpenAI\n",
    "\n",
    "input_model = OpenAI(temperature=0, max_tokens=1024)"
   ]
  },
  {
   "cell_type": "code",
   "execution_count": 18,
   "id": "b19b192e",
   "metadata": {},
   "outputs": [],
   "source": [
    "template = \"\"\"\n",
    "            We have provided  information below.\n",
    "            Given this information, please generate a python code with python-pptx for three \n",
    "            slide presentation with this information. \n",
    "            \n",
    "            Put the title in the first slide, \n",
    "            5 bullet points in the second slide and another 5 bullet in the third slide.\n",
    "            Put list number in each bullet point.\n",
    "                        \n",
    "            Separate the bullet points into separate texts with line separator.\n",
    "            Set font size to 20 for each bullet point. \n",
    "            Save the file in ../pptx/Red Sea Security Threats.pptx path\n",
    "\n",
    "            Information: {context}\n",
    "            \"\"\"\n",
    "\n",
    "\n",
    "prompt = ChatPromptTemplate.from_template(template)"
   ]
  },
  {
   "cell_type": "code",
   "execution_count": 19,
   "id": "96db744f",
   "metadata": {},
   "outputs": [],
   "source": [
    "out_chain = prompt | input_model | parser"
   ]
  },
  {
   "cell_type": "code",
   "execution_count": 20,
   "id": "9d0dd069",
   "metadata": {},
   "outputs": [],
   "source": [
    "output = out_chain.invoke({\"context\": response})"
   ]
  },
  {
   "cell_type": "code",
   "execution_count": 21,
   "id": "2b221a9a",
   "metadata": {},
   "outputs": [
    {
     "data": {
      "text/plain": [
       "['',\n",
       " '# Import necessary libraries',\n",
       " 'from pptx import Presentation',\n",
       " 'from pptx.util import Pt',\n",
       " '',\n",
       " '# Create new presentation',\n",
       " 'prs = Presentation()',\n",
       " '',\n",
       " '# Add title slide',\n",
       " 'slide = prs.slides.add_slide(prs.slide_layouts[0])',\n",
       " 'title = slide.shapes.title',\n",
       " 'title.text = \"Endnotes of the March 2024 EPRS Briefing on Recent Threats in the Red Sea\"',\n",
       " '',\n",
       " '# Add second slide with 5 bullet points',\n",
       " 'slide = prs.slides.add_slide(prs.slide_layouts[1])',\n",
       " 'title = slide.shapes.title',\n",
       " 'title.text = \"Authorship and Research Team\"',\n",
       " '',\n",
       " '# Add bullet points',\n",
       " 'bullet_points = slide.shapes.placeholders[1].text_frame',\n",
       " 'bullet_points.text = \"1. The briefing was authored by Angelos Delivorias with graphic support from Samy Chahri, under the European Parliamentary Research Service.\\\\n2. The document is cataloged as PE 760.390 and was published in March 2024, labeled in English (EN).\\\\n3. The document focuses on the recent attacks by the Iran-backed Houthi militia on commercial shipping in the Red Sea, particularly near the Bab el-Mandeb Strait.\\\\n4. It discusses the economic impacts on regional and EU economies, highlighting disruptions in global supply chains and potential inflationary pressures.\\\\n5. Due to the attacks, major shipping companies have suspended transits through the Suez Canal, opting for the longer route around the Cape of Good Hope.\"',\n",
       " '',\n",
       " '# Set font size for bullet points',\n",
       " 'for paragraph in bullet_points.paragraphs:',\n",
       " '    for run in paragraph.runs:',\n",
       " '        font = run.font',\n",
       " '        font.size = Pt(20)',\n",
       " '',\n",
       " '# Add third slide with 5 bullet points',\n",
       " 'slide = prs.slides.add_slide(prs.slide_layouts[1])',\n",
       " 'title = slide.shapes.title',\n",
       " 'title.text = \"Economic Repercussions Addressed\"',\n",
       " '',\n",
       " '# Add bullet points',\n",
       " 'bullet_points = slide.shapes.placeholders[1].text_frame',\n",
       " 'bullet_points.text = \"1. The briefing notes a rise in shipping prices due to increased fuel and insurance costs, exacerbated by the need to use longer alternative shipping routes.\\\\n2. Delays caused by the diversion of shipping routes have led to disruptions in global supply chains, with some companies halting production.\\\\n3. If the situation persists or worsens, it could further affect energy supplies and prices, contributing to higher inflation and complicating central bank efforts for economic stability.\\\\n4. The document highlights concerns about high interest rates affecting developing countries, particularly those in Africa facing debt repayment risks.\\\\n5. Following incidents suspected to involve damage to submarine communications cables, the European Commission adopted recommendations on improving the security and resilience of these critical infrastructures.\"',\n",
       " '',\n",
       " '# Set font size for bullet points',\n",
       " 'for paragraph in bullet_points.paragraphs:',\n",
       " '    for run in paragraph.runs:',\n",
       " '        font = run.font',\n",
       " '        font.size = Pt(20)',\n",
       " '',\n",
       " '# Save presentation',\n",
       " 'prs.save(\"../pptx/Red Sea Security Threats.pptx\")']"
      ]
     },
     "execution_count": 21,
     "metadata": {},
     "output_type": "execute_result"
    }
   ],
   "source": [
    "output.split(\"\\n\")"
   ]
  },
  {
   "cell_type": "markdown",
   "id": "bfd8deb7",
   "metadata": {},
   "source": [
    "## 8. Creating the pptx file \n",
    "\n",
    "Now, we have the python code and we're going to create the pptx file through the exec() function. This function is used for the dynamic execution of python programs which can either be a string or object code. If it is a string, the string is parsed as a suite of Python statements which is then executed unless a syntax error occurs. With the output string of LLM, we execute the code."
   ]
  },
  {
   "cell_type": "code",
   "execution_count": 22,
   "id": "e541c1fb",
   "metadata": {},
   "outputs": [
    {
     "name": "stdout",
     "output_type": "stream",
     "text": [
      "4\n"
     ]
    }
   ],
   "source": [
    "# example\n",
    "\n",
    "exec(\"print(2+2)\")"
   ]
  },
  {
   "cell_type": "code",
   "execution_count": 23,
   "id": "8468fb52",
   "metadata": {},
   "outputs": [],
   "source": [
    "# executing the python code\n",
    "\n",
    "exec(output)"
   ]
  },
  {
   "cell_type": "code",
   "execution_count": null,
   "id": "3d8dbc8a",
   "metadata": {},
   "outputs": [],
   "source": []
  }
 ],
 "metadata": {
  "kernelspec": {
   "display_name": "virtual",
   "language": "python",
   "name": "virtual"
  },
  "language_info": {
   "codemirror_mode": {
    "name": "ipython",
    "version": 3
   },
   "file_extension": ".py",
   "mimetype": "text/x-python",
   "name": "python",
   "nbconvert_exporter": "python",
   "pygments_lexer": "ipython3",
   "version": "3.10.14"
  },
  "toc": {
   "base_numbering": 1,
   "nav_menu": {},
   "number_sections": false,
   "sideBar": true,
   "skip_h1_title": true,
   "title_cell": "Table of Contents",
   "title_sidebar": "Contents",
   "toc_cell": true,
   "toc_position": {
    "height": "508px",
    "left": "186px",
    "top": "111.141px",
    "width": "268.797px"
   },
   "toc_section_display": true,
   "toc_window_display": true
  }
 },
 "nbformat": 4,
 "nbformat_minor": 5
}
