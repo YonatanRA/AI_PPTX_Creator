{
 "cells": [
  {
   "cell_type": "code",
   "execution_count": null,
   "id": "e0d9e90d",
   "metadata": {},
   "outputs": [],
   "source": []
  },
  {
   "cell_type": "code",
   "execution_count": 1,
   "id": "0c2e32d2",
   "metadata": {},
   "outputs": [],
   "source": [
    "# import API KEY\n",
    "\n",
    "import os                           # operating system library\n",
    "from dotenv import load_dotenv      # load environment variables  \n",
    "\n",
    "\n",
    "load_dotenv()\n",
    "\n",
    "\n",
    "OPENAI_API_KEY = os.getenv(\"OPENAI_API_KEY\")"
   ]
  },
  {
   "cell_type": "code",
   "execution_count": null,
   "id": "7e7a2c5f",
   "metadata": {},
   "outputs": [],
   "source": []
  },
  {
   "cell_type": "code",
   "execution_count": 2,
   "id": "006411e7",
   "metadata": {},
   "outputs": [
    {
     "data": {
      "text/plain": [
       "\"The Suez Canal is a man-made waterway in Egypt, connecting the Mediterranean Sea to the Red Sea. It was officially opened in 1869 and is one of the world's most heavily used shipping lanes. The canal provides a direct route for maritime traffic between Europe and Asia, bypassing the need to sail around Africa through the Cape of Good Hope. This significantly reduces the travel distance and time for ships, making it a critical route for international trade.\\n\\nThe canal is approximately 193 kilometers (120 miles) long, and its construction was a monumental engineering feat led by the French engineer Ferdinand de Lesseps, although it was built largely by forced Egyptian labor. The Suez Canal has no locks, as the sea level is the same at both ends, and it can accommodate ships of various sizes, including some of the largest vessels, known as supertankers.\\n\\nOver the years, the canal has been expanded and modernized to accommodate increasing maritime traffic and larger ships. It is also a strategic and economic asset for Egypt, generating significant revenue from the tolls charged to passing ships. The canal has been a focal point in geopolitical conflicts, notably during the Suez Crisis of 1956, when it was nationalized by Egyptian President Gamal Abdel Nasser, leading to a brief military conflict involving Egypt, Israel, France, and the United Kingdom.\""
      ]
     },
     "execution_count": 2,
     "metadata": {},
     "output_type": "execute_result"
    }
   ],
   "source": [
    "from langchain_openai.chat_models import ChatOpenAI   # LangChain connection to OpenAI\n",
    "\n",
    "model = ChatOpenAI(model=\"gpt-4-turbo\")\n",
    "\n",
    "response = model.invoke(\"What is the Suez Canal?\")\n",
    "\n",
    "response.content"
   ]
  },
  {
   "cell_type": "code",
   "execution_count": null,
   "id": "26b9806b",
   "metadata": {},
   "outputs": [],
   "source": []
  },
  {
   "cell_type": "code",
   "execution_count": 3,
   "id": "3730349e",
   "metadata": {},
   "outputs": [
    {
     "data": {
      "text/plain": [
       "['.DS_Store', '2024_BRIEFING.pdf']"
      ]
     },
     "execution_count": 3,
     "metadata": {},
     "output_type": "execute_result"
    }
   ],
   "source": [
    "os.listdir(\"../pdfs\")"
   ]
  },
  {
   "cell_type": "code",
   "execution_count": 4,
   "id": "fbbb2c7c",
   "metadata": {},
   "outputs": [],
   "source": [
    "from langchain_community.document_loaders import PyPDFDirectoryLoader"
   ]
  },
  {
   "cell_type": "code",
   "execution_count": 5,
   "id": "1d649761",
   "metadata": {},
   "outputs": [],
   "source": [
    "loader = PyPDFDirectoryLoader(\"../pdfs/\")\n",
    "\n",
    "pages = loader.load()"
   ]
  },
  {
   "cell_type": "code",
   "execution_count": 6,
   "id": "de0130e0",
   "metadata": {},
   "outputs": [
    {
     "data": {
      "text/plain": [
       "8"
      ]
     },
     "execution_count": 6,
     "metadata": {},
     "output_type": "execute_result"
    }
   ],
   "source": [
    "len(pages)"
   ]
  },
  {
   "cell_type": "code",
   "execution_count": null,
   "id": "a3a87e90",
   "metadata": {},
   "outputs": [],
   "source": []
  },
  {
   "cell_type": "code",
   "execution_count": 7,
   "id": "be77a410",
   "metadata": {},
   "outputs": [],
   "source": [
    "from langchain_openai.embeddings import OpenAIEmbeddings\n",
    "\n",
    "\n",
    "vectorizer = OpenAIEmbeddings()"
   ]
  },
  {
   "cell_type": "code",
   "execution_count": 8,
   "id": "50709875",
   "metadata": {},
   "outputs": [],
   "source": [
    "from langchain_community.vectorstores import Chroma\n",
    "\n",
    "chroma_db = Chroma.from_documents(pages, vectorizer, persist_directory=\"../chroma_db\")"
   ]
  },
  {
   "cell_type": "code",
   "execution_count": 9,
   "id": "fc74ed67",
   "metadata": {},
   "outputs": [],
   "source": [
    "retriever = chroma_db.as_retriever(search_type=\"mmr\", search_kwargs={\"k\": 2, \"lambda_mult\": 0.25})"
   ]
  },
  {
   "cell_type": "code",
   "execution_count": null,
   "id": "7858199e",
   "metadata": {},
   "outputs": [],
   "source": []
  },
  {
   "cell_type": "code",
   "execution_count": 10,
   "id": "0ddaf788",
   "metadata": {},
   "outputs": [],
   "source": [
    "from langchain.prompts import ChatPromptTemplate"
   ]
  },
  {
   "cell_type": "code",
   "execution_count": 11,
   "id": "ea0f3f40",
   "metadata": {},
   "outputs": [],
   "source": [
    "template = \"\"\"\n",
    "            Given the context below and the question, \n",
    "            please generate a header and 10 bullet points.\n",
    "            List with numbers the bullet points.\n",
    "            Summarize each bullet point in 40 words.\n",
    "            \n",
    "            Put a line separator after `:` symbol.\n",
    "\n",
    "            Context: {context}\n",
    "\n",
    "            Question: {question}\n",
    "            \"\"\"\n",
    "\n",
    "\n",
    "prompt = ChatPromptTemplate.from_template(template)"
   ]
  },
  {
   "cell_type": "code",
   "execution_count": null,
   "id": "1e2deb4f",
   "metadata": {},
   "outputs": [],
   "source": []
  },
  {
   "cell_type": "code",
   "execution_count": 12,
   "id": "f922d012",
   "metadata": {},
   "outputs": [],
   "source": [
    "from langchain_core.output_parsers import StrOutputParser\n",
    "\n",
    "parser = StrOutputParser()"
   ]
  },
  {
   "cell_type": "code",
   "execution_count": 13,
   "id": "69eae9d0",
   "metadata": {},
   "outputs": [],
   "source": [
    "from langchain_core.runnables import RunnablePassthrough"
   ]
  },
  {
   "cell_type": "code",
   "execution_count": 14,
   "id": "11359596",
   "metadata": {},
   "outputs": [],
   "source": [
    "query = \"What are the endnotes of the briefing?\""
   ]
  },
  {
   "cell_type": "code",
   "execution_count": 15,
   "id": "adfbd7f8",
   "metadata": {},
   "outputs": [],
   "source": [
    "in_chain = {\"context\": retriever, \"question\": RunnablePassthrough()} | prompt | model | parser\n",
    "\n",
    "\n",
    "response = in_chain.invoke(query)"
   ]
  },
  {
   "cell_type": "code",
   "execution_count": 16,
   "id": "0c096a42",
   "metadata": {},
   "outputs": [
    {
     "data": {
      "text/plain": [
       "['**Header: Endnotes of the March 2024 EPRS Briefing on Recent Threats in the Red Sea**',\n",
       " '',\n",
       " '1. **Authorship and Research Team**:',\n",
       " '   - The briefing was authored by Angelos Delivorias with graphic support from Samy Chahri, under the European Parliamentary Research Service.',\n",
       " '',\n",
       " '2. **Document Identification**:',\n",
       " '   - The document is cataloged as PE 760.390 and was published in March 2024, labeled in English (EN).',\n",
       " '',\n",
       " '3. **Main Subject Focus**:',\n",
       " '   - The document focuses on the recent attacks by the Iran-backed Houthi militia on commercial shipping in the Red Sea, particularly near the Bab el-Mandeb Strait.',\n",
       " '',\n",
       " '4. **Economic Repercussions Addressed**:',\n",
       " '   - It discusses the economic impacts on regional and EU economies, highlighting disruptions in global supply chains and potential inflationary pressures.',\n",
       " '',\n",
       " '5. **Shipping Route Alternatives**:',\n",
       " '   - Due to the attacks, major shipping companies have suspended transits through the Suez Canal, opting for the longer route around the Cape of Good Hope.',\n",
       " '',\n",
       " '6. **Increased Shipping Costs**:',\n",
       " '   - The briefing notes a rise in shipping prices due to increased fuel and insurance costs, exacerbated by the need to use longer alternative shipping routes.',\n",
       " '',\n",
       " '7. **Impact on Global Supply Chains**:',\n",
       " '   - Delays caused by the diversion of shipping routes have led to disruptions in global supply chains, with some companies halting production.',\n",
       " '',\n",
       " '8. **Potential Long-term Economic Effects**:',\n",
       " '   - If the situation persists or worsens, it could further affect energy supplies and prices, contributing to higher inflation and complicating central bank efforts for economic stability.',\n",
       " '',\n",
       " '9. **Risks to Developing Countries**:',\n",
       " '   - The document highlights concerns about high interest rates affecting developing countries, particularly those in Africa facing debt repayment risks.',\n",
       " '',\n",
       " '10. **Security Measures for Submarine Cables**:',\n",
       " '    - Following incidents suspected to involve damage to submarine communications cables, the European Commission adopted recommendations on improving the security and resilience of these critical infrastructures.']"
      ]
     },
     "execution_count": 16,
     "metadata": {},
     "output_type": "execute_result"
    }
   ],
   "source": [
    "response.split(\"\\n\")"
   ]
  },
  {
   "cell_type": "code",
   "execution_count": null,
   "id": "0906ad7e",
   "metadata": {},
   "outputs": [],
   "source": []
  },
  {
   "cell_type": "code",
   "execution_count": 17,
   "id": "e610b6b4",
   "metadata": {},
   "outputs": [],
   "source": [
    "from langchain_openai import OpenAI\n",
    "\n",
    "input_model = OpenAI(temperature=0, max_tokens=1024)"
   ]
  },
  {
   "cell_type": "code",
   "execution_count": 18,
   "id": "b18a1741",
   "metadata": {},
   "outputs": [],
   "source": [
    "template = \"\"\"\n",
    "            We have provided  information below.\n",
    "            Given this information, please generate a python code with python-pptx for three \n",
    "            slide presentation with this information. \n",
    "            \n",
    "            Put the title in the first slide, \n",
    "            5 bullet points in the second slide and another 5 bullet in the third slide.\n",
    "            Put list number in each bullet point.\n",
    "                        \n",
    "            Separate the bullet points into separate texts with line separator.\n",
    "            Set font size to 20 for each bullet point. \n",
    "            Save the file in ../pptx/Red Sea Security Threats.pptx path\n",
    "\n",
    "            Information: {context}\n",
    "            \"\"\"\n",
    "\n",
    "\n",
    "prompt = ChatPromptTemplate.from_template(template)"
   ]
  },
  {
   "cell_type": "code",
   "execution_count": 19,
   "id": "30a3dba1",
   "metadata": {},
   "outputs": [],
   "source": [
    "out_chain = prompt | input_model | parser"
   ]
  },
  {
   "cell_type": "code",
   "execution_count": 20,
   "id": "01934494",
   "metadata": {},
   "outputs": [],
   "source": [
    "output = out_chain.invoke({\"context\": response})"
   ]
  },
  {
   "cell_type": "code",
   "execution_count": 21,
   "id": "934735d4",
   "metadata": {},
   "outputs": [
    {
     "data": {
      "text/plain": [
       "['',\n",
       " '# Import necessary libraries',\n",
       " 'from pptx import Presentation',\n",
       " 'from pptx.util import Pt',\n",
       " '',\n",
       " '# Create new presentation',\n",
       " 'prs = Presentation()',\n",
       " '',\n",
       " '# Add title slide',\n",
       " 'slide = prs.slides.add_slide(prs.slide_layouts[0])',\n",
       " 'title = slide.shapes.title',\n",
       " 'title.text = \"Endnotes of the March 2024 EPRS Briefing on Recent Threats in the Red Sea\"',\n",
       " '',\n",
       " '# Add second slide with 5 bullet points',\n",
       " 'slide = prs.slides.add_slide(prs.slide_layouts[1])',\n",
       " 'title = slide.shapes.title',\n",
       " 'title.text = \"Authorship and Research Team\"',\n",
       " '',\n",
       " '# Add bullet points',\n",
       " 'bullet_points = slide.shapes.placeholders[1].text_frame',\n",
       " 'bullet_points.text = \"1. The briefing was authored by Angelos Delivorias with graphic support from Samy Chahri, under the European Parliamentary Research Service.\\\\n2. The document is cataloged as PE 760.390 and was published in March 2024, labeled in English (EN).\\\\n3. The document focuses on the recent attacks by the Iran-backed Houthi militia on commercial shipping in the Red Sea, particularly near the Bab el-Mandeb Strait.\\\\n4. It discusses the economic impacts on regional and EU economies, highlighting disruptions in global supply chains and potential inflationary pressures.\\\\n5. Due to the attacks, major shipping companies have suspended transits through the Suez Canal, opting for the longer route around the Cape of Good Hope.\"',\n",
       " '',\n",
       " '# Set font size for bullet points',\n",
       " 'for paragraph in bullet_points.paragraphs:',\n",
       " '    for run in paragraph.runs:',\n",
       " '        font = run.font',\n",
       " '        font.size = Pt(20)',\n",
       " '',\n",
       " '# Add third slide with 5 bullet points',\n",
       " 'slide = prs.slides.add_slide(prs.slide_layouts[1])',\n",
       " 'title = slide.shapes.title',\n",
       " 'title.text = \"Economic Repercussions Addressed\"',\n",
       " '',\n",
       " '# Add bullet points',\n",
       " 'bullet_points = slide.shapes.placeholders[1].text_frame',\n",
       " 'bullet_points.text = \"1. The briefing notes a rise in shipping prices due to increased fuel and insurance costs, exacerbated by the need to use longer alternative shipping routes.\\\\n2. Delays caused by the diversion of shipping routes have led to disruptions in global supply chains, with some companies halting production.\\\\n3. If the situation persists or worsens, it could further affect energy supplies and prices, contributing to higher inflation and complicating central bank efforts for economic stability.\\\\n4. The document highlights concerns about high interest rates affecting developing countries, particularly those in Africa facing debt repayment risks.\\\\n5. Following incidents suspected to involve damage to submarine communications cables, the European Commission adopted recommendations on improving the security and resilience of these critical infrastructures.\"',\n",
       " '',\n",
       " '# Set font size for bullet points',\n",
       " 'for paragraph in bullet_points.paragraphs:',\n",
       " '    for run in paragraph.runs:',\n",
       " '        font = run.font',\n",
       " '        font.size = Pt(20)',\n",
       " '',\n",
       " '# Save presentation',\n",
       " 'prs.save(\"../pptx/Red Sea Security Threats.pptx\")']"
      ]
     },
     "execution_count": 21,
     "metadata": {},
     "output_type": "execute_result"
    }
   ],
   "source": [
    "output.split(\"\\n\")"
   ]
  },
  {
   "cell_type": "code",
   "execution_count": null,
   "id": "e777303f",
   "metadata": {},
   "outputs": [],
   "source": []
  },
  {
   "cell_type": "code",
   "execution_count": null,
   "id": "5fe5fe4b",
   "metadata": {},
   "outputs": [],
   "source": []
  },
  {
   "cell_type": "code",
   "execution_count": 22,
   "id": "4cfe2abb",
   "metadata": {},
   "outputs": [
    {
     "name": "stdout",
     "output_type": "stream",
     "text": [
      "4\n"
     ]
    }
   ],
   "source": [
    "exec(\"print(2+2)\")"
   ]
  },
  {
   "cell_type": "code",
   "execution_count": 23,
   "id": "438a9524",
   "metadata": {},
   "outputs": [],
   "source": [
    "exec(output)"
   ]
  },
  {
   "cell_type": "code",
   "execution_count": null,
   "id": "1d6c43e9",
   "metadata": {},
   "outputs": [],
   "source": []
  },
  {
   "cell_type": "code",
   "execution_count": null,
   "id": "4a4cb85e",
   "metadata": {},
   "outputs": [],
   "source": []
  }
 ],
 "metadata": {
  "kernelspec": {
   "display_name": "virtual",
   "language": "python",
   "name": "virtual"
  },
  "language_info": {
   "codemirror_mode": {
    "name": "ipython",
    "version": 3
   },
   "file_extension": ".py",
   "mimetype": "text/x-python",
   "name": "python",
   "nbconvert_exporter": "python",
   "pygments_lexer": "ipython3",
   "version": "3.10.14"
  },
  "toc": {
   "base_numbering": 1,
   "nav_menu": {},
   "number_sections": true,
   "sideBar": true,
   "skip_h1_title": false,
   "title_cell": "Table of Contents",
   "title_sidebar": "Contents",
   "toc_cell": false,
   "toc_position": {},
   "toc_section_display": true,
   "toc_window_display": false
  }
 },
 "nbformat": 4,
 "nbformat_minor": 5
}
